{
  "cells": [
    {
      "cell_type": "markdown",
      "metadata": {
        "id": "LVG_oGlr_Aa0"
      },
      "source": [
        "# Setup of Spark Environment"
      ]
    },
    {
      "cell_type": "code",
      "execution_count": 1,
      "metadata": {
        "id": "MVGl2gzv9n6w"
      },
      "outputs": [],
      "source": [
        "!apt-get install openjdk-8-jdk-headless -qq > /dev/null\n",
        "!wget -q http://archive.apache.org/dist/spark/spark-3.1.1/spark-3.1.1-bin-hadoop3.2.tgz\n",
        "!tar xf spark-3.1.1-bin-hadoop3.2.tgz\n",
        "!pip install -q findspark"
      ]
    },
    {
      "cell_type": "code",
      "execution_count": 2,
      "metadata": {
        "id": "G7n_DNay9vgN"
      },
      "outputs": [],
      "source": [
        "import os\n",
        "os.environ[\"JAVA_HOME\"] = \"/usr/lib/jvm/java-8-openjdk-amd64\"\n",
        "os.environ[\"SPARK_HOME\"] = \"/content/spark-3.1.1-bin-hadoop3.2\""
      ]
    },
    {
      "cell_type": "markdown",
      "metadata": {
        "id": "qWWlqCyf-__C"
      },
      "source": [
        "# Spark-RDDs (Grid Cells of High Relative-Density Index)\n"
      ]
    },
    {
      "cell_type": "markdown",
      "metadata": {
        "id": "S_hJ-uynGood"
      },
      "source": [
        "## Imports & Setup"
      ]
    },
    {
      "cell_type": "code",
      "execution_count": 3,
      "metadata": {
        "id": "zVQLT-M7_lbr"
      },
      "outputs": [],
      "source": [
        "# Imports & setup\n",
        "import findspark\n",
        "findspark.init()\n",
        "from pyspark.sql import SparkSession\n",
        "\n",
        "# Start Spark Session\n",
        "spark = SparkSession.builder.master(\"local[*]\").config(\"spark.sql.analyzer.failAmbiguousSelfJoin\", False).getOrCreate()\n",
        "spark.conf.set(\"spark.sql.repl.eagerEval.enabled\", True)\n",
        "spark.conf.set(\"spark.sql.broadcastTimeout\", \"1200s\")  # Set timeout to 1200 seconds (20 minutes)\n",
        "spark\n",
        "\n",
        "# Import functions to use later\n",
        "from pyspark.sql.functions import col, sum, avg, min, max, count, ceil, when, lit, coalesce"
      ]
    },
    {
      "cell_type": "markdown",
      "metadata": {
        "id": "IOLad8eCGrjq"
      },
      "source": [
        "## Step 1: Import points dataset as dataframe and set schema (x_val, y_val)"
      ]
    },
    {
      "cell_type": "code",
      "execution_count": 4,
      "metadata": {
        "colab": {
          "base_uri": "https://localhost:8080/"
        },
        "id": "Z8GxX_x6F_Tk",
        "outputId": "ad7ff91e-cab5-4308-b805-caa6204ea9ad"
      },
      "outputs": [
        {
          "output_type": "stream",
          "name": "stdout",
          "text": [
            "+---+---+\n",
            "|_c0|_c1|\n",
            "+---+---+\n",
            "| 42| 28|\n",
            "| 49| 33|\n",
            "| 43| 31|\n",
            "| 53| 46|\n",
            "| 69| 37|\n",
            "| 45|  9|\n",
            "| 36| 30|\n",
            "| 45| 46|\n",
            "| 67| 20|\n",
            "| 88| 42|\n",
            "+---+---+\n",
            "\n"
          ]
        }
      ],
      "source": [
        "# Import test points dataset with inferred schema\n",
        "points_df = spark.read.csv(\"Test_Points.txt\", header=False, inferSchema=True)\n",
        "points_df.show()"
      ]
    },
    {
      "cell_type": "markdown",
      "metadata": {
        "id": "wPSK0XlgG97E"
      },
      "source": [
        "## Step 2: Add column headers"
      ]
    },
    {
      "cell_type": "code",
      "execution_count": 5,
      "metadata": {
        "colab": {
          "base_uri": "https://localhost:8080/"
        },
        "id": "sxrawgUsGX5L",
        "outputId": "4848c41c-73c4-4fa6-d3df-a56f05307b2f"
      },
      "outputs": [
        {
          "output_type": "stream",
          "name": "stdout",
          "text": [
            "root\n",
            " |-- x_val: integer (nullable = true)\n",
            " |-- y_val: integer (nullable = true)\n",
            "\n"
          ]
        }
      ],
      "source": [
        "# Add column headers x_val, y_val\n",
        "points_column_headers = [\"x_val\", \"y_val\"]\n",
        "for i, col_name in enumerate(points_column_headers):\n",
        "    points_df = points_df.withColumnRenamed(\"_c\" + str(i), col_name)\n",
        "points_df.printSchema()\n",
        "\n",
        "# Start with P (points) as a dataframe\n",
        "P = points_df"
      ]
    },
    {
      "cell_type": "markdown",
      "metadata": {
        "id": "di-keBvEHFzz"
      },
      "source": [
        "## Step 3: Assign point's current grid\n",
        "\n",
        "1. x_grid = ceiling (x_val / 20)\n",
        "\n",
        "2. y_grid = [ceiling (x_val / 20) - 1] * 500\n",
        "\n",
        "3. curr_grid = x_grid + y_grid"
      ]
    },
    {
      "cell_type": "code",
      "execution_count": 6,
      "metadata": {
        "colab": {
          "base_uri": "https://localhost:8080/"
        },
        "id": "XlSBGWvlGkeR",
        "outputId": "0be49596-1ccb-409b-aa66-0bc95cc2bd21"
      },
      "outputs": [
        {
          "output_type": "stream",
          "name": "stdout",
          "text": [
            "+-----+-----+------+------+----+\n",
            "|x_val|y_val|x_grid|y_grid|grid|\n",
            "+-----+-----+------+------+----+\n",
            "|   42|   28|     3|   500| 503|\n",
            "|   49|   33|     3|   500| 503|\n",
            "|   43|   31|     3|   500| 503|\n",
            "|   53|   46|     3|  1000|1003|\n",
            "|   69|   37|     4|   500| 504|\n",
            "|   45|    9|     3|     0|   3|\n",
            "|   36|   30|     2|   500| 502|\n",
            "|   45|   46|     3|  1000|1003|\n",
            "|   67|   20|     4|     0|   4|\n",
            "|   88|   42|     5|  1000|1005|\n",
            "+-----+-----+------+------+----+\n",
            "\n"
          ]
        }
      ],
      "source": [
        "# Assign current grid for each point\n",
        "\n",
        "# import type of output & udf\n",
        "from pyspark.sql.types import IntegerType\n",
        "from pyspark.sql.functions import udf\n",
        "from math import ceil\n",
        "\n",
        "# Define udf to get grid x\n",
        "def get_x_grid(x):\n",
        "    return ceil(x / 20)\n",
        "\n",
        "get_x_grid_udf = udf(get_x_grid, IntegerType())\n",
        "\n",
        "# Define udf to get grid y\n",
        "def get_y_grid(x):\n",
        "    if x == 0:\n",
        "        return 0  # Return 0 if x is 0\n",
        "    else:\n",
        "        return (ceil(x / 20) - 1) * 500\n",
        "\n",
        "get_y_grid_udf = udf(get_y_grid, IntegerType())\n",
        "\n",
        "# Define udf to get grid\n",
        "def get_grid(x, y):\n",
        "    return x + y\n",
        "\n",
        "get_grid_udf = udf(get_grid, IntegerType())\n",
        "\n",
        "# Apply udfs to get grid information for each point\n",
        "P_with_x_grid = P.withColumn('x_grid', get_x_grid_udf(P['x_val']))\n",
        "P_with_x_and_y_grid = P_with_x_grid.withColumn('y_grid', get_y_grid_udf(P['y_val']))\n",
        "P_with_grid = P_with_x_and_y_grid.withColumn('grid', get_grid_udf(P_with_x_and_y_grid['x_grid'], P_with_x_and_y_grid['y_grid']))\n",
        "P_with_grid.show()"
      ]
    },
    {
      "cell_type": "markdown",
      "metadata": {
        "id": "fHboUjlSd1u3"
      },
      "source": [
        "## Step 4: Get Count of Points in Each Grid"
      ]
    },
    {
      "cell_type": "code",
      "execution_count": 7,
      "metadata": {
        "colab": {
          "base_uri": "https://localhost:8080/"
        },
        "id": "hfN-fUJid4hd",
        "outputId": "36e1c540-f2f1-49e8-d0a8-53e01f429717"
      },
      "outputs": [
        {
          "output_type": "stream",
          "name": "stdout",
          "text": [
            "+---------+----------+\n",
            "|curr_grid|num_points|\n",
            "+---------+----------+\n",
            "|     1005|         1|\n",
            "|        3|         1|\n",
            "|      504|         1|\n",
            "|      502|         1|\n",
            "|      503|         3|\n",
            "|        4|         1|\n",
            "|     1003|         2|\n",
            "+---------+----------+\n",
            "\n"
          ]
        }
      ],
      "source": [
        "# Selct grid column\n",
        "P_with_grid = P_with_grid.select('grid')\n",
        "\n",
        "# GroupBy grid and count to get points per grid\n",
        "grid_with_count = P_with_grid.groupBy('grid').agg(count('grid').alias('num_points'))\n",
        "\n",
        "# rename grid to curr_grid to prep for join\n",
        "grid_with_count = grid_with_count.withColumnRenamed(\"grid\", \"curr_grid\")\n",
        "\n",
        "grid_with_count.show()"
      ]
    },
    {
      "cell_type": "markdown",
      "metadata": {
        "id": "uT1ZDGbzLXJ-"
      },
      "source": [
        "## Step 5: Assign neighbors & check if valid"
      ]
    },
    {
      "cell_type": "markdown",
      "metadata": {
        "id": "3dpggVJKcdOL"
      },
      "source": [
        "### Assign Neighbors\n",
        "\n",
        "1. n_1 = curr_grid + 500 - 1\n",
        "\n",
        "2. n_2 = curr_grid + 500\n",
        "\n",
        "3. n_3 = curr_grid + 500 + 1\n",
        "\n",
        "4. n_4 = curr_grid + 1\n",
        "\n",
        "5. n_5 = curr_grid - 500 + 1\n",
        "\n",
        "6. n_6 = curr_grid - 500\n",
        "\n",
        "7. n_7 = curr_grid - 500 - 1\n",
        "\n",
        "8. n_8 = curr_grid - 1\n",
        "\n",
        "### Check if neighbor is valid\n",
        "\n",
        "1. If x_grid = 1, then no n_1, n_8, n_7\n",
        "\n",
        "2. If curr_grid <= 500, then no n_7, n_6, n_5\n",
        "\n",
        "3. If curr_grid % 500 == 0, then no n_3, n_4, n_5\n",
        "\n",
        "4. if curr_grid >= 249,951, then no n_1, n_2, n_3"
      ]
    },
    {
      "cell_type": "code",
      "execution_count": 8,
      "metadata": {
        "colab": {
          "base_uri": "https://localhost:8080/"
        },
        "id": "8CPxtzXqLZMq",
        "outputId": "e1a91344-ee37-44ba-d8a8-ce7db1363955"
      },
      "outputs": [
        {
          "output_type": "stream",
          "name": "stdout",
          "text": [
            "+----+----+----+----+----+---+---+---+----+\n",
            "|grid| n_1| n_2| n_3| n_4|n_5|n_6|n_7| n_8|\n",
            "+----+----+----+----+----+---+---+---+----+\n",
            "| 503|1002|1003|1004| 504|  4|  3|  2| 502|\n",
            "| 503|1002|1003|1004| 504|  4|  3|  2| 502|\n",
            "| 503|1002|1003|1004| 504|  4|  3|  2| 502|\n",
            "|1003|1502|1503|1504|1004|504|503|502|1002|\n",
            "| 504|1003|1004|1005| 505|  5|  4|  3| 503|\n",
            "|   3| 502| 503| 504|   4| -1| -1| -1|   2|\n",
            "| 502|1001|1002|1003| 503|  3|  2|  1| 501|\n",
            "|1003|1502|1503|1504|1004|504|503|502|1002|\n",
            "|   4| 503| 504| 505|   5| -1| -1| -1|   3|\n",
            "|1005|1504|1505|1506|1006|506|505|504|1004|\n",
            "+----+----+----+----+----+---+---+---+----+\n",
            "\n"
          ]
        }
      ],
      "source": [
        "# Assign Neighbors & make sure valid\n",
        "\n",
        "# Define udf to get n_1\n",
        "def get_n_1(grid):\n",
        "    if grid % 500 == 1:\n",
        "      return -1\n",
        "    elif grid >= 249951:\n",
        "      return -1\n",
        "    else:\n",
        "      return grid + 500 - 1\n",
        "\n",
        "get_n_1_udf = udf(get_n_1, IntegerType())\n",
        "\n",
        "# Define udf to get n_2\n",
        "def get_n_2(grid):\n",
        "  if grid >= 249951:\n",
        "    return -1\n",
        "  else:\n",
        "    return grid + 500\n",
        "\n",
        "get_n_2_udf = udf(get_n_2, IntegerType())\n",
        "\n",
        "# Define udf to get n_3\n",
        "def get_n_3(grid):\n",
        "    if grid % 500 == 0:\n",
        "      return -1\n",
        "    elif grid >= 249951:\n",
        "      return -1\n",
        "    else:\n",
        "      return grid + 500 + 1\n",
        "\n",
        "get_n_3_udf = udf(get_n_3, IntegerType())\n",
        "\n",
        "# Define udf to get n_4\n",
        "def get_n_4(grid):\n",
        "    if grid % 500 == 0:\n",
        "      return -1\n",
        "    else:\n",
        "      return grid + 1\n",
        "\n",
        "get_n_4_udf = udf(get_n_4, IntegerType())\n",
        "\n",
        "# Define udf to get n_5\n",
        "def get_n_5(grid):\n",
        "    if grid <= 500:\n",
        "      return -1\n",
        "    elif grid % 500 == 0:\n",
        "      return -1\n",
        "    else:\n",
        "      return grid - 500 + 1\n",
        "\n",
        "get_n_5_udf = udf(get_n_5, IntegerType())\n",
        "\n",
        "# Define udf to get n_6\n",
        "def get_n_6(grid):\n",
        "    if grid <= 500:\n",
        "      return -1\n",
        "    else:\n",
        "      return grid - 500\n",
        "\n",
        "get_n_6_udf = udf(get_n_6, IntegerType())\n",
        "\n",
        "# Define udf to get n_7\n",
        "def get_n_7(grid):\n",
        "    if grid % 500 == 1:\n",
        "      return -1\n",
        "    elif grid <= 500:\n",
        "      return -1\n",
        "    else:\n",
        "      return grid - 500 - 1\n",
        "\n",
        "get_n_7_udf = udf(get_n_7, IntegerType())\n",
        "\n",
        "# Define udf to get n_8\n",
        "def get_n_8(grid):\n",
        "    if grid % 500 == 1:\n",
        "      return -1\n",
        "    else:\n",
        "      return grid - 1\n",
        "\n",
        "get_n_8_udf = udf(get_n_8, IntegerType())\n",
        "\n",
        "# Add columns for each neighbor\n",
        "P_with_n1 = P_with_grid.withColumn('n_1', get_n_1_udf(P_with_grid['grid']))\n",
        "P_with_n2 = P_with_n1.withColumn('n_2', get_n_2_udf(P_with_n1['grid']))\n",
        "P_with_n3 = P_with_n2.withColumn('n_3', get_n_3_udf(P_with_n2['grid']))\n",
        "P_with_n4 = P_with_n3.withColumn('n_4', get_n_4_udf(P_with_n3['grid']))\n",
        "P_with_n5 = P_with_n4.withColumn('n_5', get_n_5_udf(P_with_n4['grid']))\n",
        "P_with_n6 = P_with_n5.withColumn('n_6', get_n_6_udf(P_with_n5['grid']))\n",
        "P_with_n7 = P_with_n6.withColumn('n_7', get_n_7_udf(P_with_n6['grid']))\n",
        "P_with_n8 = P_with_n7.withColumn('n_8', get_n_8_udf(P_with_n7['grid']))\n",
        "grid_with_neighbors = P_with_n8.select('grid', 'n_1', 'n_2', 'n_3', 'n_4', 'n_5', 'n_6', 'n_7', 'n_8')\n",
        "\n",
        "grid_with_neighbors.show()"
      ]
    },
    {
      "cell_type": "markdown",
      "metadata": {
        "id": "H2LceJTPfo4D"
      },
      "source": [
        "## Step 6: Get Count of Neighbors"
      ]
    },
    {
      "cell_type": "code",
      "execution_count": 9,
      "metadata": {
        "colab": {
          "base_uri": "https://localhost:8080/"
        },
        "id": "NXx72Tbb0ZH4",
        "outputId": "3c57cba1-c79e-45ad-8daa-4dee88e50ea6"
      },
      "outputs": [
        {
          "output_type": "stream",
          "name": "stdout",
          "text": [
            "+----+----------+\n",
            "|grid|grid_count|\n",
            "+----+----------+\n",
            "| 503|         3|\n",
            "| 503|         3|\n",
            "| 503|         3|\n",
            "|1003|         2|\n",
            "| 504|         1|\n",
            "|   3|         1|\n",
            "| 502|         1|\n",
            "|1003|         2|\n",
            "|   4|         1|\n",
            "|1005|         1|\n",
            "+----+----------+\n",
            "\n"
          ]
        }
      ],
      "source": [
        "# Get grids of all points\n",
        "grid_curr = P_with_grid.select('grid')\n",
        "\n",
        "# Join grid_curr with grid_with_count based on the 'grid' column using left outer join\n",
        "joined_curr = grid_curr.join(grid_with_count, grid_curr['grid'] == grid_with_count['curr_grid'], \"left_outer\")\n",
        "\n",
        "# Replace null values in num_points with 0\n",
        "joined_curr_with_count = joined_curr.select(\n",
        "    grid_curr['grid'],\n",
        "    coalesce(grid_with_count['num_points'], lit(0)).alias('grid_count')\n",
        ")\n",
        "\n",
        "joined_curr_with_count.show()"
      ]
    },
    {
      "cell_type": "code",
      "execution_count": 10,
      "metadata": {
        "colab": {
          "base_uri": "https://localhost:8080/"
        },
        "id": "F4OwwzCjfraD",
        "outputId": "de51261c-d3c2-412d-c5fb-cae02dca4545"
      },
      "outputs": [
        {
          "output_type": "stream",
          "name": "stdout",
          "text": [
            "+----+----+---------+\n",
            "|grid| n_1|n_1_count|\n",
            "+----+----+---------+\n",
            "| 503|1002|        0|\n",
            "| 503|1002|        0|\n",
            "| 503|1002|        0|\n",
            "|1003|1502|        0|\n",
            "| 504|1003|        2|\n",
            "|   3| 502|        1|\n",
            "| 502|1001|        0|\n",
            "|1003|1502|        0|\n",
            "|   4| 503|        3|\n",
            "|1005|1504|        0|\n",
            "+----+----+---------+\n",
            "\n"
          ]
        }
      ],
      "source": [
        "# Get grids of all points and n1\n",
        "grid_n1 = P_with_n1.select('grid', 'n_1')\n",
        "\n",
        "# Join grid_n1 with grid_with_count based on the 'n_1' column using left outer join\n",
        "joined_n1 = grid_n1.join(grid_with_count, grid_n1['n_1'] == grid_with_count['curr_grid'], \"left_outer\")\n",
        "\n",
        "# Replace null values in num_points with 0\n",
        "n1_with_count = joined_n1.select(\n",
        "    grid_n1['grid'],\n",
        "    grid_n1['n_1'].alias('n_1'),\n",
        "    coalesce(grid_with_count['num_points'], lit(0)).alias('n_1_count')\n",
        ")\n",
        "\n",
        "n1_with_count.show()"
      ]
    },
    {
      "cell_type": "code",
      "execution_count": 11,
      "metadata": {
        "colab": {
          "base_uri": "https://localhost:8080/"
        },
        "id": "g6GsnlSIbhaA",
        "outputId": "e01f75a0-9a1c-4f5a-fbdb-d14491a89070"
      },
      "outputs": [
        {
          "output_type": "stream",
          "name": "stdout",
          "text": [
            "+----+----+---------+\n",
            "|grid| n_2|n_2_count|\n",
            "+----+----+---------+\n",
            "| 503|1003|        2|\n",
            "| 503|1003|        2|\n",
            "| 503|1003|        2|\n",
            "|1003|1503|        0|\n",
            "| 504|1004|        0|\n",
            "|   3| 503|        3|\n",
            "| 502|1002|        0|\n",
            "|1003|1503|        0|\n",
            "|   4| 504|        1|\n",
            "|1005|1505|        0|\n",
            "+----+----+---------+\n",
            "\n"
          ]
        }
      ],
      "source": [
        "# Get grids of all points and n2\n",
        "grid_n2 = P_with_n2.select('grid', 'n_2')\n",
        "\n",
        "# Join grid_n2 with grid_with_count based on the 'n_2' column using left outer join\n",
        "joined_n2 = grid_n2.join(grid_with_count, grid_n2['n_2'] == grid_with_count['curr_grid'], \"left_outer\")\n",
        "\n",
        "# Replace null values in num_points with 0\n",
        "n2_with_count = joined_n2.select(\n",
        "    grid_n2['grid'],\n",
        "    grid_n2['n_2'].alias('n_2'),\n",
        "    coalesce(grid_with_count['num_points'], lit(0)).alias('n_2_count')\n",
        ")\n",
        "\n",
        "n2_with_count.show()"
      ]
    },
    {
      "cell_type": "code",
      "execution_count": 12,
      "metadata": {
        "colab": {
          "base_uri": "https://localhost:8080/"
        },
        "id": "RkkFsyDTwXTh",
        "outputId": "e2f37b05-8b14-45c1-dc14-10bae02b8577"
      },
      "outputs": [
        {
          "output_type": "stream",
          "name": "stdout",
          "text": [
            "+----+----+---------+\n",
            "|grid| n_3|n_3_count|\n",
            "+----+----+---------+\n",
            "| 503|1004|        0|\n",
            "| 503|1004|        0|\n",
            "| 503|1004|        0|\n",
            "|1003|1504|        0|\n",
            "| 504|1005|        1|\n",
            "|   3| 504|        1|\n",
            "| 502|1003|        2|\n",
            "|1003|1504|        0|\n",
            "|   4| 505|        0|\n",
            "|1005|1506|        0|\n",
            "+----+----+---------+\n",
            "\n"
          ]
        }
      ],
      "source": [
        "# Get grids of all points and n3\n",
        "grid_n3 = P_with_n3.select('grid', 'n_3')\n",
        "\n",
        "# Join grid_n3 with grid_with_count based on the 'n_3' column using left outer join\n",
        "joined_n3 = grid_n3.join(grid_with_count, grid_n3['n_3'] == grid_with_count['curr_grid'], \"left_outer\")\n",
        "\n",
        "# Replace null values in num_points with 0\n",
        "n3_with_count = joined_n3.select(\n",
        "    grid_n3['grid'],\n",
        "    grid_n3['n_3'].alias('n_3'),\n",
        "    coalesce(grid_with_count['num_points'], lit(0)).alias('n_3_count')\n",
        ")\n",
        "\n",
        "n3_with_count.show()"
      ]
    },
    {
      "cell_type": "code",
      "execution_count": 13,
      "metadata": {
        "colab": {
          "base_uri": "https://localhost:8080/"
        },
        "id": "IjgkXkMxwaTy",
        "outputId": "337ccc55-8d54-4359-e58e-1a42a705373d"
      },
      "outputs": [
        {
          "output_type": "stream",
          "name": "stdout",
          "text": [
            "+----+----+---------+\n",
            "|grid| n_4|n_4_count|\n",
            "+----+----+---------+\n",
            "| 503| 504|        1|\n",
            "| 503| 504|        1|\n",
            "| 503| 504|        1|\n",
            "|1003|1004|        0|\n",
            "| 504| 505|        0|\n",
            "|   3|   4|        1|\n",
            "| 502| 503|        3|\n",
            "|1003|1004|        0|\n",
            "|   4|   5|        0|\n",
            "|1005|1006|        0|\n",
            "+----+----+---------+\n",
            "\n"
          ]
        }
      ],
      "source": [
        "# Get grids of all points and n4\n",
        "grid_n4 = P_with_n4.select('grid', 'n_4')\n",
        "\n",
        "# Join grid_n4 with grid_with_count based on the 'n_4' column using left outer join\n",
        "joined_n4 = grid_n4.join(grid_with_count, grid_n4['n_4'] == grid_with_count['curr_grid'], \"left_outer\")\n",
        "\n",
        "# Replace null values in num_points with 0\n",
        "n4_with_count = joined_n4.select(\n",
        "    grid_n4['grid'],\n",
        "    grid_n4['n_4'].alias('n_4'),\n",
        "    coalesce(grid_with_count['num_points'], lit(0)).alias('n_4_count')\n",
        ")\n",
        "\n",
        "n4_with_count.show()"
      ]
    },
    {
      "cell_type": "code",
      "execution_count": 14,
      "metadata": {
        "colab": {
          "base_uri": "https://localhost:8080/"
        },
        "id": "_jkQPxZEwaGe",
        "outputId": "92465efd-8c6a-47b0-9366-fea8a1a42519"
      },
      "outputs": [
        {
          "output_type": "stream",
          "name": "stdout",
          "text": [
            "+----+---+---------+\n",
            "|grid|n_5|n_5_count|\n",
            "+----+---+---------+\n",
            "| 503|  4|        1|\n",
            "| 503|  4|        1|\n",
            "| 503|  4|        1|\n",
            "|1003|504|        1|\n",
            "| 504|  5|        0|\n",
            "|   3| -1|        0|\n",
            "| 502|  3|        1|\n",
            "|1003|504|        1|\n",
            "|   4| -1|        0|\n",
            "|1005|506|        0|\n",
            "+----+---+---------+\n",
            "\n"
          ]
        }
      ],
      "source": [
        "# Get grids of all points and n5\n",
        "grid_n5 = P_with_n5.select('grid', 'n_5')\n",
        "\n",
        "# Joining grid_n5 with grid_with_count based on the 'n_5' column using left outer join\n",
        "joined_n5 = grid_n5.join(grid_with_count, grid_n5['n_5'] == grid_with_count['curr_grid'], \"left_outer\")\n",
        "\n",
        "# Replace null values in num_points with 0\n",
        "n5_with_count = joined_n5.select(\n",
        "    grid_n5['grid'],\n",
        "    grid_n5['n_5'].alias('n_5'),\n",
        "    coalesce(grid_with_count['num_points'], lit(0)).alias('n_5_count')\n",
        ")\n",
        "\n",
        "n5_with_count.show()"
      ]
    },
    {
      "cell_type": "code",
      "execution_count": 15,
      "metadata": {
        "colab": {
          "base_uri": "https://localhost:8080/"
        },
        "id": "i1ajR4JZwZ24",
        "outputId": "9e68791d-059d-4811-d565-9b2f3f8a821f"
      },
      "outputs": [
        {
          "output_type": "stream",
          "name": "stdout",
          "text": [
            "+----+---+---------+\n",
            "|grid|n_6|n_6_count|\n",
            "+----+---+---------+\n",
            "| 503|  3|        1|\n",
            "| 503|  3|        1|\n",
            "| 503|  3|        1|\n",
            "|1003|503|        3|\n",
            "| 504|  4|        1|\n",
            "|   3| -1|        0|\n",
            "| 502|  2|        0|\n",
            "|1003|503|        3|\n",
            "|   4| -1|        0|\n",
            "|1005|505|        0|\n",
            "+----+---+---------+\n",
            "\n"
          ]
        }
      ],
      "source": [
        "# Get grids of all points and n6\n",
        "grid_n6 = P_with_n6.select('grid', 'n_6')\n",
        "\n",
        "# Joining grid_n6 with grid_with_count based on the 'n_6' column using left outer join\n",
        "joined_n6 = grid_n6.join(grid_with_count, grid_n6['n_6'] == grid_with_count['curr_grid'], \"left_outer\")\n",
        "\n",
        "# Replace null values in num_points with 0\n",
        "n6_with_count = joined_n6.select(\n",
        "    grid_n6['grid'],\n",
        "    grid_n6['n_6'].alias('n_6'),\n",
        "    coalesce(grid_with_count['num_points'], lit(0)).alias('n_6_count')\n",
        ")\n",
        "\n",
        "n6_with_count.show()"
      ]
    },
    {
      "cell_type": "code",
      "execution_count": 16,
      "metadata": {
        "colab": {
          "base_uri": "https://localhost:8080/"
        },
        "id": "erOIeo1AwZnU",
        "outputId": "d832c3fd-be3b-4ec4-8c25-49b5ea4015a7"
      },
      "outputs": [
        {
          "output_type": "stream",
          "name": "stdout",
          "text": [
            "+----+---+---------+\n",
            "|grid|n_7|n_7_count|\n",
            "+----+---+---------+\n",
            "| 503|  2|        0|\n",
            "| 503|  2|        0|\n",
            "| 503|  2|        0|\n",
            "|1003|502|        1|\n",
            "| 504|  3|        1|\n",
            "|   3| -1|        0|\n",
            "| 502|  1|        0|\n",
            "|1003|502|        1|\n",
            "|   4| -1|        0|\n",
            "|1005|504|        1|\n",
            "+----+---+---------+\n",
            "\n"
          ]
        }
      ],
      "source": [
        "# Get grids of all points and n7\n",
        "grid_n7 = P_with_n7.select('grid', 'n_7')\n",
        "\n",
        "# Joining grid_n7 with grid_with_count based on the 'n_7' column using left outer join\n",
        "joined_n7 = grid_n7.join(grid_with_count, grid_n7['n_7'] == grid_with_count['curr_grid'], \"left_outer\")\n",
        "\n",
        "# Replace null values in num_points with 0\n",
        "n7_with_count = joined_n7.select(\n",
        "    grid_n7['grid'],\n",
        "    grid_n7['n_7'].alias('n_7'),\n",
        "    coalesce(grid_with_count['num_points'], lit(0)).alias('n_7_count')\n",
        ")\n",
        "\n",
        "n7_with_count.show()"
      ]
    },
    {
      "cell_type": "code",
      "execution_count": 17,
      "metadata": {
        "colab": {
          "base_uri": "https://localhost:8080/"
        },
        "id": "O9wn8hMqwZAQ",
        "outputId": "973535f4-584c-4f2d-c45d-0717aae3ad0c"
      },
      "outputs": [
        {
          "output_type": "stream",
          "name": "stdout",
          "text": [
            "+----+----+---------+\n",
            "|grid| n_8|n_8_count|\n",
            "+----+----+---------+\n",
            "| 503| 502|        1|\n",
            "| 503| 502|        1|\n",
            "| 503| 502|        1|\n",
            "|1003|1002|        0|\n",
            "| 504| 503|        3|\n",
            "|   3|   2|        0|\n",
            "| 502| 501|        0|\n",
            "|1003|1002|        0|\n",
            "|   4|   3|        1|\n",
            "|1005|1004|        0|\n",
            "+----+----+---------+\n",
            "\n"
          ]
        }
      ],
      "source": [
        "# Get grids of all points and n8\n",
        "grid_n8 = P_with_n8.select('grid', 'n_8')\n",
        "\n",
        "# Joining grid_n8 with grid_with_count based on the 'n_8' column using left outer join\n",
        "joined_n8 = grid_n8.join(grid_with_count, grid_n8['n_8'] == grid_with_count['curr_grid'], \"left_outer\")\n",
        "\n",
        "# Replace null values in num_points with 0\n",
        "n8_with_count = joined_n8.select(\n",
        "    grid_n8['grid'],\n",
        "    grid_n8['n_8'].alias('n_8'),\n",
        "    coalesce(grid_with_count['num_points'], lit(0)).alias('n_8_count')\n",
        ")\n",
        "\n",
        "n8_with_count.show()"
      ]
    },
    {
      "cell_type": "code",
      "source": [
        "# Drop duplicates\n",
        "joined_curr_with_count = joined_curr_with_count.dropDuplicates()\n",
        "n1_with_count = n1_with_count.dropDuplicates()\n",
        "n2_with_count = n2_with_count.dropDuplicates()\n",
        "n3_with_count = n3_with_count.dropDuplicates()\n",
        "n4_with_count = n4_with_count.dropDuplicates()\n",
        "n5_with_count = n5_with_count.dropDuplicates()\n",
        "n6_with_count = n6_with_count.dropDuplicates()\n",
        "n7_with_count = n7_with_count.dropDuplicates()\n",
        "n8_with_count = n8_with_count.dropDuplicates()"
      ],
      "metadata": {
        "id": "dvZoIXe7OGtU"
      },
      "execution_count": 18,
      "outputs": []
    },
    {
      "cell_type": "code",
      "execution_count": 19,
      "metadata": {
        "colab": {
          "base_uri": "https://localhost:8080/"
        },
        "id": "UF5xe7VUcDp_",
        "outputId": "d3285e14-dae2-4ac8-af4e-b5f8fd87a714"
      },
      "outputs": [
        {
          "output_type": "stream",
          "name": "stdout",
          "text": [
            "+----+----------+----+---------+----+---------+----+---------+----+---------+---+---------+---+---------+---+---------+----+---------+\n",
            "|grid|grid_count| n_1|n_1_count| n_2|n_2_count| n_3|n_3_count| n_4|n_4_count|n_5|n_5_count|n_6|n_6_count|n_7|n_7_count| n_8|n_8_count|\n",
            "+----+----------+----+---------+----+---------+----+---------+----+---------+---+---------+---+---------+---+---------+----+---------+\n",
            "|1005|         1|1504|        0|1505|        0|1506|        0|1006|        0|506|        0|505|        0|504|        1|1004|        0|\n",
            "|   3|         1| 502|        1| 503|        3| 504|        1|   4|        1| -1|        0| -1|        0| -1|        0|   2|        0|\n",
            "| 504|         1|1003|        2|1004|        0|1005|        1| 505|        0|  5|        0|  4|        1|  3|        1| 503|        3|\n",
            "| 502|         1|1001|        0|1002|        0|1003|        2| 503|        3|  3|        1|  2|        0|  1|        0| 501|        0|\n",
            "| 503|         3|1002|        0|1003|        2|1004|        0| 504|        1|  4|        1|  3|        1|  2|        0| 502|        1|\n",
            "|   4|         1| 503|        3| 504|        1| 505|        0|   5|        0| -1|        0| -1|        0| -1|        0|   3|        1|\n",
            "|1003|         2|1502|        0|1503|        0|1504|        0|1004|        0|504|        1|503|        3|502|        1|1002|        0|\n",
            "+----+----------+----+---------+----+---------+----+---------+----+---------+---+---------+---+---------+---+---------+----+---------+\n",
            "\n"
          ]
        }
      ],
      "source": [
        "# Join all neighbors with counts based on the 'grid' column\n",
        "joined_with_n1 = joined_curr_with_count.join(n1_with_count, 'grid', \"outer\")\n",
        "joined_with_n2 = joined_with_n1.join(n2_with_count, 'grid', \"outer\")\n",
        "joined_with_n3 = joined_with_n2.join(n3_with_count, 'grid', \"outer\")\n",
        "joined_with_n4 = joined_with_n3.join(n4_with_count, 'grid', \"outer\")\n",
        "joined_with_n5 = joined_with_n4.join(n5_with_count, 'grid', \"outer\")\n",
        "joined_with_n6 = joined_with_n5.join(n6_with_count, 'grid', \"outer\")\n",
        "joined_with_n7 = joined_with_n6.join(n7_with_count, 'grid', \"outer\")\n",
        "joined_with_n8 = joined_with_n7.join(n8_with_count, 'grid', \"outer\")\n",
        "\n",
        "joined_with_n8.show()"
      ]
    },
    {
      "cell_type": "markdown",
      "metadata": {
        "id": "4X0V7r-B35X4"
      },
      "source": [
        "## Step 7: For each grid, calculate the density"
      ]
    },
    {
      "cell_type": "code",
      "execution_count": 20,
      "metadata": {
        "colab": {
          "base_uri": "https://localhost:8080/"
        },
        "id": "TTAH_2tf34qY",
        "outputId": "83748359-5b9c-48a4-f7a2-2e6ba4ceab71"
      },
      "outputs": [
        {
          "output_type": "stream",
          "name": "stdout",
          "text": [
            "+----+----------+----+---------+----+---------+----+---------+----+---------+---+---------+---+---------+---+---------+----+---------+---------+\n",
            "|grid|grid_count| n_1|n_1_count| n_2|n_2_count| n_3|n_3_count| n_4|n_4_count|n_5|n_5_count|n_6|n_6_count|n_7|n_7_count| n_8|n_8_count|avg_count|\n",
            "+----+----------+----+---------+----+---------+----+---------+----+---------+---+---------+---+---------+---+---------+----+---------+---------+\n",
            "|1005|         1|1504|        0|1505|        0|1506|        0|1006|        0|506|        0|505|        0|504|        1|1004|        0|    0.125|\n",
            "|   3|         1| 502|        1| 503|        3| 504|        1|   4|        1| -1|        0| -1|        0| -1|        0|   2|        0|      1.2|\n",
            "| 504|         1|1003|        2|1004|        0|1005|        1| 505|        0|  5|        0|  4|        1|  3|        1| 503|        3|      1.0|\n",
            "| 502|         1|1001|        0|1002|        0|1003|        2| 503|        3|  3|        1|  2|        0|  1|        0| 501|        0|     0.75|\n",
            "| 503|         3|1002|        0|1003|        2|1004|        0| 504|        1|  4|        1|  3|        1|  2|        0| 502|        1|     0.75|\n",
            "|   4|         1| 503|        3| 504|        1| 505|        0|   5|        0| -1|        0| -1|        0| -1|        0|   3|        1|      1.0|\n",
            "|1003|         2|1502|        0|1503|        0|1504|        0|1004|        0|504|        1|503|        3|502|        1|1002|        0|    0.625|\n",
            "+----+----------+----+---------+----+---------+----+---------+----+---------+---+---------+---+---------+---+---------+----+---------+---------+\n",
            "\n"
          ]
        }
      ],
      "source": [
        "from pyspark.sql.functions import udf\n",
        "from pyspark.sql.types import DoubleType\n",
        "\n",
        "# Calculate average of count of all valid neighbors\n",
        "def calculate_average(n1, n1_count, n2, n2_count, n3, n3_count, n4, n4_count, n5, n5_count, n6, n6_count, n7, n7_count, n8, n8_count):\n",
        "    _sum = 0\n",
        "    count = 0\n",
        "\n",
        "    if n1 > 0:\n",
        "        _sum += n1_count\n",
        "        count += 1\n",
        "    if n2 > 0:\n",
        "        _sum += n2_count\n",
        "        count += 1\n",
        "    if n3 > 0:\n",
        "        _sum += n3_count\n",
        "        count += 1\n",
        "    if n4 > 0:\n",
        "        _sum += n4_count\n",
        "        count += 1\n",
        "    if n5 > 0:\n",
        "        _sum += n5_count\n",
        "        count += 1\n",
        "    if n6 > 0:\n",
        "        _sum += n6_count\n",
        "        count += 1\n",
        "    if n7 > 0:\n",
        "        _sum += n7_count\n",
        "        count += 1\n",
        "    if n8 > 0:\n",
        "        _sum += n8_count\n",
        "        count += 1\n",
        "\n",
        "    return _sum / count if count > 0 else None\n",
        "\n",
        "# Register the UDF\n",
        "calculate_average_udf = udf(calculate_average, DoubleType())\n",
        "\n",
        "# Add a new column with the calculated average\n",
        "joined_with_avg = joined_with_n8.withColumn('avg_count', calculate_average_udf(joined_with_n8['n_1'], joined_with_n8['n_1_count'], joined_with_n8['n_2'], joined_with_n8['n_2_count'], joined_with_n8['n_3'], joined_with_n8['n_3_count'], joined_with_n8['n_4'], joined_with_n8['n_4_count'], joined_with_n8['n_5'], joined_with_n8['n_5_count'], joined_with_n8['n_6'], joined_with_n8['n_6_count'], joined_with_n8['n_7'], joined_with_n8['n_7_count'], joined_with_n8['n_8'], joined_with_n8['n_8_count']))\n",
        "\n",
        "joined_with_avg.show()\n"
      ]
    },
    {
      "cell_type": "code",
      "execution_count": 21,
      "metadata": {
        "colab": {
          "base_uri": "https://localhost:8080/"
        },
        "id": "On8sPWMaM15i",
        "outputId": "20fecbfc-a9a8-4613-cae6-7a77df063a42"
      },
      "outputs": [
        {
          "output_type": "stream",
          "name": "stdout",
          "text": [
            "+----+----------+----+---------+----+---------+----+---------+----+---------+---+---------+---+---------+---+---------+----+---------+---------+------------------+\n",
            "|grid|grid_count| n_1|n_1_count| n_2|n_2_count| n_3|n_3_count| n_4|n_4_count|n_5|n_5_count|n_6|n_6_count|n_7|n_7_count| n_8|n_8_count|avg_count|    rel_dens_index|\n",
            "+----+----------+----+---------+----+---------+----+---------+----+---------+---+---------+---+---------+---+---------+----+---------+---------+------------------+\n",
            "|1005|         1|1504|        0|1505|        0|1506|        0|1006|        0|506|        0|505|        0|504|        1|1004|        0|    0.125|               8.0|\n",
            "|   3|         1| 502|        1| 503|        3| 504|        1|   4|        1| -1|        0| -1|        0| -1|        0|   2|        0|      1.2|0.8333333333333334|\n",
            "| 504|         1|1003|        2|1004|        0|1005|        1| 505|        0|  5|        0|  4|        1|  3|        1| 503|        3|      1.0|               1.0|\n",
            "| 502|         1|1001|        0|1002|        0|1003|        2| 503|        3|  3|        1|  2|        0|  1|        0| 501|        0|     0.75|1.3333333333333333|\n",
            "| 503|         3|1002|        0|1003|        2|1004|        0| 504|        1|  4|        1|  3|        1|  2|        0| 502|        1|     0.75|               4.0|\n",
            "|   4|         1| 503|        3| 504|        1| 505|        0|   5|        0| -1|        0| -1|        0| -1|        0|   3|        1|      1.0|               1.0|\n",
            "|1003|         2|1502|        0|1503|        0|1504|        0|1004|        0|504|        1|503|        3|502|        1|1002|        0|    0.625|               3.2|\n",
            "+----+----------+----+---------+----+---------+----+---------+----+---------+---+---------+---+---------+---+---------+----+---------+---------+------------------+\n",
            "\n"
          ]
        }
      ],
      "source": [
        "# Calculate relative density index\n",
        "def calculate_rel_dens_index(grid_count, avg_count):\n",
        "    return grid_count / avg_count\n",
        "\n",
        "# Register the UDF\n",
        "calculate_rel_dens_index_udf = udf(calculate_rel_dens_index, DoubleType())\n",
        "\n",
        "# Add a new column with the calculated relative density\n",
        "joined_with_rel_dens_index = joined_with_avg.withColumn('rel_dens_index', calculate_rel_dens_index_udf(joined_with_avg['grid_count'], joined_with_avg['avg_count']))\n",
        "\n",
        "joined_with_rel_dens_index.show()"
      ]
    },
    {
      "cell_type": "markdown",
      "source": [
        "## Display the final outputs"
      ],
      "metadata": {
        "id": "B-QPoDcbTPrC"
      }
    },
    {
      "cell_type": "markdown",
      "source": [
        "### TOP 50 grid cells w.r.t Relative-Density Index"
      ],
      "metadata": {
        "id": "H0w7vFNwQD6-"
      }
    },
    {
      "cell_type": "code",
      "execution_count": 22,
      "metadata": {
        "colab": {
          "base_uri": "https://localhost:8080/"
        },
        "id": "06tvUcWAOSia",
        "outputId": "1325a338-ad05-4792-a39b-03257f8898f5"
      },
      "outputs": [
        {
          "output_type": "stream",
          "name": "stdout",
          "text": [
            "+---------+------------------+\n",
            "|curr_grid|    rel_dens_index|\n",
            "+---------+------------------+\n",
            "|     1005|               8.0|\n",
            "|      503|               4.0|\n",
            "|     1003|               3.2|\n",
            "|      502|1.3333333333333333|\n",
            "|      504|               1.0|\n",
            "|        4|               1.0|\n",
            "|        3|0.8333333333333334|\n",
            "+---------+------------------+\n",
            "\n"
          ]
        }
      ],
      "source": [
        "# Rename the 'grid' column to 'curr_grid'\n",
        "renamed_df = joined_with_rel_dens_index.withColumnRenamed('grid', 'curr_grid')\n",
        "\n",
        "# Select curr_grid and rel_dens_index, order by 'rel_dens_index' in descending order, and limit to 50 rows\n",
        "result = renamed_df.select('curr_grid', 'rel_dens_index').orderBy('rel_dens_index', ascending=False).limit(50)\n",
        "\n",
        "result.show()"
      ]
    },
    {
      "cell_type": "code",
      "execution_count": 23,
      "metadata": {
        "id": "s32hVlSBFZOR",
        "colab": {
          "base_uri": "https://localhost:8080/"
        },
        "outputId": "8dc2ab3f-9ace-4e02-b6d7-0f4ca470bdda"
      },
      "outputs": [
        {
          "output_type": "stream",
          "name": "stdout",
          "text": [
            "+----+------------------+\n",
            "|grid|          curr_rdi|\n",
            "+----+------------------+\n",
            "| 503|               4.0|\n",
            "| 503|               4.0|\n",
            "| 503|               4.0|\n",
            "|1003|               3.2|\n",
            "| 504|               1.0|\n",
            "|   3|0.8333333333333334|\n",
            "| 502|1.3333333333333333|\n",
            "|1003|               3.2|\n",
            "|   4|               1.0|\n",
            "|1005|               8.0|\n",
            "+----+------------------+\n",
            "\n"
          ]
        }
      ],
      "source": [
        "# Get rdi for all points\n",
        "curr_rel_dens = grid_curr.join(result, grid_curr['grid'] == result['curr_grid'], \"left_outer\")\n",
        "\n",
        "# Make all invalid neighbors have an rdi of 0\n",
        "curr_rel_dens = curr_rel_dens.select(\n",
        "    grid_curr['grid'],\n",
        "    coalesce(result['rel_dens_index'], lit(0)).alias('curr_rdi')\n",
        ")\n",
        "\n",
        "curr_rel_dens.show()"
      ]
    },
    {
      "cell_type": "code",
      "execution_count": 24,
      "metadata": {
        "id": "mfDEc6IZD9a3",
        "colab": {
          "base_uri": "https://localhost:8080/"
        },
        "outputId": "37249693-42db-4831-d767-d7130bcf2f3e"
      },
      "outputs": [
        {
          "output_type": "stream",
          "name": "stdout",
          "text": [
            "+----+----+------------------+\n",
            "|grid| n_1|            n1_rdi|\n",
            "+----+----+------------------+\n",
            "| 503|1002|               0.0|\n",
            "| 503|1002|               0.0|\n",
            "| 503|1002|               0.0|\n",
            "|1003|1502|               0.0|\n",
            "| 504|1003|               3.2|\n",
            "|   3| 502|1.3333333333333333|\n",
            "| 502|1001|               0.0|\n",
            "|1003|1502|               0.0|\n",
            "|   4| 503|               4.0|\n",
            "|1005|1504|               0.0|\n",
            "+----+----+------------------+\n",
            "\n",
            "+----+----+------+\n",
            "|grid| n_2|n2_rdi|\n",
            "+----+----+------+\n",
            "| 503|1003|   3.2|\n",
            "| 503|1003|   3.2|\n",
            "| 503|1003|   3.2|\n",
            "|1003|1503|   0.0|\n",
            "| 504|1004|   0.0|\n",
            "|   3| 503|   4.0|\n",
            "| 502|1002|   0.0|\n",
            "|1003|1503|   0.0|\n",
            "|   4| 504|   1.0|\n",
            "|1005|1505|   0.0|\n",
            "+----+----+------+\n",
            "\n",
            "+----+----+------+\n",
            "|grid| n_3|n3_rdi|\n",
            "+----+----+------+\n",
            "| 503|1004|   0.0|\n",
            "| 503|1004|   0.0|\n",
            "| 503|1004|   0.0|\n",
            "|1003|1504|   0.0|\n",
            "| 504|1005|   8.0|\n",
            "|   3| 504|   1.0|\n",
            "| 502|1003|   3.2|\n",
            "|1003|1504|   0.0|\n",
            "|   4| 505|   0.0|\n",
            "|1005|1506|   0.0|\n",
            "+----+----+------+\n",
            "\n",
            "+----+----+------+\n",
            "|grid| n_4|n4_rdi|\n",
            "+----+----+------+\n",
            "| 503| 504|   1.0|\n",
            "| 503| 504|   1.0|\n",
            "| 503| 504|   1.0|\n",
            "|1003|1004|   0.0|\n",
            "| 504| 505|   0.0|\n",
            "|   3|   4|   1.0|\n",
            "| 502| 503|   4.0|\n",
            "|1003|1004|   0.0|\n",
            "|   4|   5|   0.0|\n",
            "|1005|1006|   0.0|\n",
            "+----+----+------+\n",
            "\n",
            "+----+---+------------------+\n",
            "|grid|n_5|            n5_rdi|\n",
            "+----+---+------------------+\n",
            "| 503|  4|               1.0|\n",
            "| 503|  4|               1.0|\n",
            "| 503|  4|               1.0|\n",
            "|1003|504|               1.0|\n",
            "| 504|  5|               0.0|\n",
            "|   3| -1|               0.0|\n",
            "| 502|  3|0.8333333333333334|\n",
            "|1003|504|               1.0|\n",
            "|   4| -1|               0.0|\n",
            "|1005|506|               0.0|\n",
            "+----+---+------------------+\n",
            "\n",
            "+----+---+------------------+\n",
            "|grid|n_6|            n6_rdi|\n",
            "+----+---+------------------+\n",
            "| 503|  3|0.8333333333333334|\n",
            "| 503|  3|0.8333333333333334|\n",
            "| 503|  3|0.8333333333333334|\n",
            "|1003|503|               4.0|\n",
            "| 504|  4|               1.0|\n",
            "|   3| -1|               0.0|\n",
            "| 502|  2|               0.0|\n",
            "|1003|503|               4.0|\n",
            "|   4| -1|               0.0|\n",
            "|1005|505|               0.0|\n",
            "+----+---+------------------+\n",
            "\n",
            "+----+---+------------------+\n",
            "|grid|n_7|            n7_rdi|\n",
            "+----+---+------------------+\n",
            "| 503|  2|               0.0|\n",
            "| 503|  2|               0.0|\n",
            "| 503|  2|               0.0|\n",
            "|1003|502|1.3333333333333333|\n",
            "| 504|  3|0.8333333333333334|\n",
            "|   3| -1|               0.0|\n",
            "| 502|  1|               0.0|\n",
            "|1003|502|1.3333333333333333|\n",
            "|   4| -1|               0.0|\n",
            "|1005|504|               1.0|\n",
            "+----+---+------------------+\n",
            "\n",
            "+----+----+------------------+\n",
            "|grid| n_8|            n8_rdi|\n",
            "+----+----+------------------+\n",
            "| 503| 502|1.3333333333333333|\n",
            "| 503| 502|1.3333333333333333|\n",
            "| 503| 502|1.3333333333333333|\n",
            "|1003|1002|               0.0|\n",
            "| 504| 503|               4.0|\n",
            "|   3|   2|               0.0|\n",
            "| 502| 501|               0.0|\n",
            "|1003|1002|               0.0|\n",
            "|   4|   3|0.8333333333333334|\n",
            "|1005|1004|               0.0|\n",
            "+----+----+------------------+\n",
            "\n"
          ]
        }
      ],
      "source": [
        "# Get rdi of n1\n",
        "n1_rel_dens = grid_n1.join(result, grid_n1['n_1'] == result['curr_grid'], \"left_outer\")\n",
        "n1_rel_dens = n1_rel_dens.select(\n",
        "    grid_n1['grid'],\n",
        "    grid_n1['n_1'].alias('n_1'),\n",
        "    coalesce(result['rel_dens_index'], lit(0)).alias('n1_rdi')\n",
        ")\n",
        "n1_rel_dens.show()\n",
        "\n",
        "# Get rdi of n2\n",
        "n2_rel_dens = grid_n2.join(result, grid_n2['n_2'] == result['curr_grid'], \"left_outer\")\n",
        "n2_rel_dens = n2_rel_dens.select(\n",
        "    grid_n2['grid'],\n",
        "    grid_n2['n_2'].alias('n_2'),\n",
        "    coalesce(result['rel_dens_index'], lit(0)).alias('n2_rdi')\n",
        ")\n",
        "n2_rel_dens.show()\n",
        "\n",
        "# Get rdi of n3\n",
        "n3_rel_dens = grid_n3.join(result, grid_n3['n_3'] == result['curr_grid'], \"left_outer\")\n",
        "n3_rel_dens = n3_rel_dens.select(\n",
        "    grid_n3['grid'],\n",
        "    grid_n3['n_3'].alias('n_3'),\n",
        "    coalesce(result['rel_dens_index'], lit(0)).alias('n3_rdi')\n",
        ")\n",
        "n3_rel_dens.show()\n",
        "\n",
        "# Get rdi of n4\n",
        "n4_rel_dens = grid_n4.join(result, grid_n4['n_4'] == result['curr_grid'], \"left_outer\")\n",
        "n4_rel_dens = n4_rel_dens.select(\n",
        "    grid_n4['grid'],\n",
        "    grid_n4['n_4'].alias('n_4'),\n",
        "    coalesce(result['rel_dens_index'], lit(0)).alias('n4_rdi')\n",
        ")\n",
        "n4_rel_dens.show()\n",
        "\n",
        "# Get rdi of n5\n",
        "n5_rel_dens = grid_n5.join(result, grid_n5['n_5'] == result['curr_grid'], \"left_outer\")\n",
        "n5_rel_dens = n5_rel_dens.select(\n",
        "    grid_n5['grid'],\n",
        "    grid_n5['n_5'].alias('n_5'),\n",
        "    coalesce(result['rel_dens_index'], lit(0)).alias('n5_rdi')\n",
        ")\n",
        "n5_rel_dens.show()\n",
        "\n",
        "# Get rdi of n6\n",
        "n6_rel_dens = grid_n6.join(result, grid_n6['n_6'] == result['curr_grid'], \"left_outer\")\n",
        "n6_rel_dens = n6_rel_dens.select(\n",
        "    grid_n6['grid'],\n",
        "    grid_n6['n_6'].alias('n_6'),\n",
        "    coalesce(result['rel_dens_index'], lit(0)).alias('n6_rdi')\n",
        ")\n",
        "n6_rel_dens.show()\n",
        "\n",
        "# Get rdi of n7\n",
        "n7_rel_dens = grid_n7.join(result, grid_n7['n_7'] == result['curr_grid'], \"left_outer\")\n",
        "n7_rel_dens = n7_rel_dens.select(\n",
        "    grid_n7['grid'],\n",
        "    grid_n7['n_7'].alias('n_7'),\n",
        "    coalesce(result['rel_dens_index'], lit(0)).alias('n7_rdi')\n",
        ")\n",
        "n7_rel_dens.show()\n",
        "\n",
        "# Get rdi of n8\n",
        "n8_rel_dens = grid_n8.join(result, grid_n8['n_8'] == result['curr_grid'], \"left_outer\")\n",
        "n8_rel_dens = n8_rel_dens.select(\n",
        "    grid_n8['grid'],\n",
        "    grid_n8['n_8'].alias('n_8'),\n",
        "    coalesce(result['rel_dens_index'], lit(0)).alias('n8_rdi')\n",
        ")\n",
        "n8_rel_dens.show()"
      ]
    },
    {
      "cell_type": "code",
      "source": [
        "# Drop duplicates for joins\n",
        "curr_rel_dens = curr_rel_dens.dropDuplicates()\n",
        "n1_rel_dens = n1_rel_dens.dropDuplicates()\n",
        "n2_rel_dens = n2_rel_dens.dropDuplicates()\n",
        "n3_rel_dens = n3_rel_dens.dropDuplicates()\n",
        "n4_rel_dens = n4_rel_dens.dropDuplicates()\n",
        "n5_rel_dens = n5_rel_dens.dropDuplicates()\n",
        "n6_rel_dens = n6_rel_dens.dropDuplicates()\n",
        "n7_rel_dens = n7_rel_dens.dropDuplicates()\n",
        "n8_rel_dens = n8_rel_dens.dropDuplicates()"
      ],
      "metadata": {
        "id": "-8ee4TYQDYmP"
      },
      "execution_count": 25,
      "outputs": []
    },
    {
      "cell_type": "code",
      "execution_count": 26,
      "metadata": {
        "id": "AtfaL6cIHGip",
        "colab": {
          "base_uri": "https://localhost:8080/"
        },
        "outputId": "afa1af70-5c78-464a-b1c3-7b14f1bffa11"
      },
      "outputs": [
        {
          "output_type": "stream",
          "name": "stdout",
          "text": [
            "+----+------------------+----+------------------+----+------+----+------+----+------+---+------------------+---+------------------+---+------------------+----+------------------+\n",
            "|grid|          curr_rdi| n_1|            n1_rdi| n_2|n2_rdi| n_3|n3_rdi| n_4|n4_rdi|n_5|            n5_rdi|n_6|            n6_rdi|n_7|            n7_rdi| n_8|            n8_rdi|\n",
            "+----+------------------+----+------------------+----+------+----+------+----+------+---+------------------+---+------------------+---+------------------+----+------------------+\n",
            "|1005|               8.0|1504|               0.0|1505|   0.0|1506|   0.0|1006|   0.0|506|               0.0|505|               0.0|504|               1.0|1004|               0.0|\n",
            "|   3|0.8333333333333334| 502|1.3333333333333333| 503|   4.0| 504|   1.0|   4|   1.0| -1|               0.0| -1|               0.0| -1|               0.0|   2|               0.0|\n",
            "| 504|               1.0|1003|               3.2|1004|   0.0|1005|   8.0| 505|   0.0|  5|               0.0|  4|               1.0|  3|0.8333333333333334| 503|               4.0|\n",
            "| 502|1.3333333333333333|1001|               0.0|1002|   0.0|1003|   3.2| 503|   4.0|  3|0.8333333333333334|  2|               0.0|  1|               0.0| 501|               0.0|\n",
            "| 503|               4.0|1002|               0.0|1003|   3.2|1004|   0.0| 504|   1.0|  4|               1.0|  3|0.8333333333333334|  2|               0.0| 502|1.3333333333333333|\n",
            "|   4|               1.0| 503|               4.0| 504|   1.0| 505|   0.0|   5|   0.0| -1|               0.0| -1|               0.0| -1|               0.0|   3|0.8333333333333334|\n",
            "|1003|               3.2|1502|               0.0|1503|   0.0|1504|   0.0|1004|   0.0|504|               1.0|503|               4.0|502|1.3333333333333333|1002|               0.0|\n",
            "+----+------------------+----+------------------+----+------+----+------+----+------+---+------------------+---+------------------+---+------------------+----+------------------+\n",
            "\n"
          ]
        }
      ],
      "source": [
        "# Joining all neighbors with rdi based on the 'grid' column\n",
        "rdi_w_n1 = curr_rel_dens.join(n1_rel_dens, 'grid', \"outer\")\n",
        "rdi_w_n2 = rdi_w_n1.join(n2_rel_dens, 'grid', \"outer\")\n",
        "rdi_w_n3 = rdi_w_n2.join(n3_rel_dens, 'grid', \"outer\")\n",
        "rdi_w_n4 = rdi_w_n3.join(n4_rel_dens, 'grid', \"outer\")\n",
        "rdi_w_n5 = rdi_w_n4.join(n5_rel_dens, 'grid', \"outer\")\n",
        "rdi_w_n6 = rdi_w_n5.join(n6_rel_dens, 'grid', \"outer\")\n",
        "rdi_w_n7 = rdi_w_n6.join(n7_rel_dens, 'grid', \"outer\")\n",
        "rdi_w_n8 = rdi_w_n7.join(n8_rel_dens, 'grid', \"outer\")\n",
        "\n",
        "rdi_w_n8.show()"
      ]
    },
    {
      "cell_type": "markdown",
      "source": [
        "### Neighbors of the TOP 50 grid"
      ],
      "metadata": {
        "id": "X8HhY86LRizF"
      }
    },
    {
      "cell_type": "code",
      "source": [
        "# Select current grid and all neighbors with individual rdi's, order by 'rel_dens_index' in descending order, and limit to 50 rows\n",
        "result2 = rdi_w_n8.orderBy('curr_rdi').orderBy('curr_rdi', ascending = False).limit(50)\n",
        "\n",
        "result2.show()"
      ],
      "metadata": {
        "id": "cIV-kIoZoC5E",
        "colab": {
          "base_uri": "https://localhost:8080/"
        },
        "outputId": "cca94f4c-7805-4610-dd83-27d1b4c8d811"
      },
      "execution_count": 27,
      "outputs": [
        {
          "output_type": "stream",
          "name": "stdout",
          "text": [
            "+----+------------------+----+------------------+----+------+----+------+----+------+---+------------------+---+------------------+---+------------------+----+------------------+\n",
            "|grid|          curr_rdi| n_1|            n1_rdi| n_2|n2_rdi| n_3|n3_rdi| n_4|n4_rdi|n_5|            n5_rdi|n_6|            n6_rdi|n_7|            n7_rdi| n_8|            n8_rdi|\n",
            "+----+------------------+----+------------------+----+------+----+------+----+------+---+------------------+---+------------------+---+------------------+----+------------------+\n",
            "|1005|               8.0|1504|               0.0|1505|   0.0|1506|   0.0|1006|   0.0|506|               0.0|505|               0.0|504|               1.0|1004|               0.0|\n",
            "| 503|               4.0|1002|               0.0|1003|   3.2|1004|   0.0| 504|   1.0|  4|               1.0|  3|0.8333333333333334|  2|               0.0| 502|1.3333333333333333|\n",
            "|1003|               3.2|1502|               0.0|1503|   0.0|1504|   0.0|1004|   0.0|504|               1.0|503|               4.0|502|1.3333333333333333|1002|               0.0|\n",
            "| 502|1.3333333333333333|1001|               0.0|1002|   0.0|1003|   3.2| 503|   4.0|  3|0.8333333333333334|  2|               0.0|  1|               0.0| 501|               0.0|\n",
            "| 504|               1.0|1003|               3.2|1004|   0.0|1005|   8.0| 505|   0.0|  5|               0.0|  4|               1.0|  3|0.8333333333333334| 503|               4.0|\n",
            "|   4|               1.0| 503|               4.0| 504|   1.0| 505|   0.0|   5|   0.0| -1|               0.0| -1|               0.0| -1|               0.0|   3|0.8333333333333334|\n",
            "|   3|0.8333333333333334| 502|1.3333333333333333| 503|   4.0| 504|   1.0|   4|   1.0| -1|               0.0| -1|               0.0| -1|               0.0|   2|               0.0|\n",
            "+----+------------------+----+------------------+----+------+----+------+----+------+---+------------------+---+------------------+---+------------------+----+------------------+\n",
            "\n"
          ]
        }
      ]
    }
  ],
  "metadata": {
    "colab": {
      "provenance": []
    },
    "kernelspec": {
      "display_name": "Python 3",
      "name": "python3"
    },
    "language_info": {
      "name": "python"
    }
  },
  "nbformat": 4,
  "nbformat_minor": 0
}