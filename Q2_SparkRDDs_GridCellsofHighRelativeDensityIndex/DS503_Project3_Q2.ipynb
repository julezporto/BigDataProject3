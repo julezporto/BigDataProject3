{
  "cells": [
    {
      "cell_type": "markdown",
      "metadata": {
        "id": "LVG_oGlr_Aa0"
      },
      "source": [
        "# Setup of Spark Environment"
      ]
    },
    {
      "cell_type": "code",
      "execution_count": 32,
      "metadata": {
        "id": "MVGl2gzv9n6w"
      },
      "outputs": [],
      "source": [
        "!apt-get install openjdk-8-jdk-headless -qq > /dev/null\n",
        "!wget -q http://archive.apache.org/dist/spark/spark-3.1.1/spark-3.1.1-bin-hadoop3.2.tgz\n",
        "!tar xf spark-3.1.1-bin-hadoop3.2.tgz\n",
        "!pip install -q findspark"
      ]
    },
    {
      "cell_type": "code",
      "execution_count": 33,
      "metadata": {
        "id": "G7n_DNay9vgN"
      },
      "outputs": [],
      "source": [
        "import os\n",
        "os.environ[\"JAVA_HOME\"] = \"/usr/lib/jvm/java-8-openjdk-amd64\"\n",
        "os.environ[\"SPARK_HOME\"] = \"/content/spark-3.1.1-bin-hadoop3.2\""
      ]
    },
    {
      "cell_type": "markdown",
      "metadata": {
        "id": "qWWlqCyf-__C"
      },
      "source": [
        "# Spark-RDDs (Grid Cells of High Relative-Density Index)\n"
      ]
    },
    {
      "cell_type": "markdown",
      "metadata": {
        "id": "LPuMYbJf_cot"
      },
      "source": [
        "## Report the TOP 50 grid cells w.r.t Relative-Density Index\n",
        "\n",
        "Steps:\n",
        "\n",
        "1. Import points dataset as dataframe and set schema *(x_val, y_val)*\n",
        "\n",
        "2. Rename column headers\n",
        "\n",
        "3. Assign point's current grid\n",
        "\n",
        "    a.   x_grid = ceiling (x_val / 20)\n",
        "\n",
        "    b.   y_grid = [ceiling (x_val / 20) - 1] * 500\n",
        "\n",
        "    c.   curr_grid = x_grid + y_grid\n",
        "\n",
        "4. Assign neighbors\n",
        "\n",
        "    a. n_1 = curr_grid + 500 - 1\n",
        "\n",
        "    b. n_2 = curr_grid + 500\n",
        "\n",
        "    c. n_3 = curr_grid + 500 + 1\n",
        "\n",
        "    d. n_4 = curr_grid + 1\n",
        "\n",
        "    e. n_5 = curr_grid - 500 + 1\n",
        "\n",
        "    f. n_6 = curr_grid - 500\n",
        "\n",
        "    g. n_7 = curr_grid - 500 - 1\n",
        "\n",
        "    h. n_8 = curr_grid - 1\n",
        "\n",
        "5. Check if neighbor is valid\n",
        "\n",
        "    a. If x_grid = 1, then no n_1, n_8, n_7\n",
        "\n",
        "    b. If curr_grid <= 500, then no n_7, n_6, n_5\n",
        "\n",
        "    c. If curr_grid % 500 == 0, then no n_3, n_4, n_5\n",
        "\n",
        "    d. if curr_grid >= 249,951, then no n_1, n_2, n_3\n",
        "\n",
        "6. Group By ID & count for curr_grid & all neighbors\n",
        "\n",
        "7. Calculate the Relative-Density Index *(rel_density)* for curr_grid:\n",
        "\n",
        "    *rel_density = curr_grid.count / avg(n_1.count, n_2.count, n_3.count, n_4.count, n_5.count, n_6.count, n_7.count, n_8.count)*\n",
        "\n",
        "8. Order By rel_density and limit 50"
      ]
    },
    {
      "cell_type": "markdown",
      "metadata": {
        "id": "S_hJ-uynGood"
      },
      "source": [
        "## Imports & Setup"
      ]
    },
    {
      "cell_type": "code",
      "execution_count": 65,
      "metadata": {
        "id": "zVQLT-M7_lbr"
      },
      "outputs": [],
      "source": [
        "# Imports & setup\n",
        "import findspark\n",
        "findspark.init()\n",
        "from pyspark.sql import SparkSession\n",
        "\n",
        "# Start Spark Session\n",
        "spark = SparkSession.builder.master(\"local[*]\").config(\"spark.sql.analyzer.failAmbiguousSelfJoin\", False).getOrCreate()\n",
        "spark.conf.set(\"spark.sql.repl.eagerEval.enabled\", True)\n",
        "spark.conf.set(\"spark.sql.broadcastTimeout\", \"1800s\")  # Set timeout to 1800 seconds (30 minutes)\n",
        "spark\n",
        "\n",
        "# Import functions to use later\n",
        "from pyspark.sql.functions import col, sum, avg, min, max, count, ceil, when, lit, coalesce"
      ]
    },
    {
      "cell_type": "markdown",
      "metadata": {
        "id": "IOLad8eCGrjq"
      },
      "source": [
        "## Step 1: Import points dataset as dataframe and set schema (x_val, y_val)"
      ]
    },
    {
      "cell_type": "code",
      "execution_count": 42,
      "metadata": {
        "colab": {
          "base_uri": "https://localhost:8080/"
        },
        "id": "Z8GxX_x6F_Tk",
        "outputId": "bb3a058e-fe29-4acc-b4b2-eec9edfeb4ea"
      },
      "outputs": [
        {
          "output_type": "stream",
          "name": "stdout",
          "text": [
            "+----+----+\n",
            "| _c0| _c1|\n",
            "+----+----+\n",
            "|5652|3438|\n",
            "|7174|8619|\n",
            "|8415|6263|\n",
            "|3171|4857|\n",
            "|4211|1952|\n",
            "|1963|1044|\n",
            "| 755|5746|\n",
            "|9960|2011|\n",
            "|1621|3304|\n",
            "| 645|8017|\n",
            "|9262|7423|\n",
            "|7919|9611|\n",
            "|8698|4678|\n",
            "|1298|7917|\n",
            "|2029|5703|\n",
            "|2479|7344|\n",
            "| 827| 748|\n",
            "|7299|9564|\n",
            "|8128| 339|\n",
            "|4494|4665|\n",
            "+----+----+\n",
            "only showing top 20 rows\n",
            "\n"
          ]
        }
      ],
      "source": [
        "# Import test points dataset with inferred schema\n",
        "points_df = spark.read.csv(\"Points.txt\", header=False, inferSchema=True)\n",
        "points_df.show()"
      ]
    },
    {
      "cell_type": "markdown",
      "metadata": {
        "id": "wPSK0XlgG97E"
      },
      "source": [
        "## Step 2: Add column headers"
      ]
    },
    {
      "cell_type": "code",
      "execution_count": 43,
      "metadata": {
        "colab": {
          "base_uri": "https://localhost:8080/"
        },
        "id": "sxrawgUsGX5L",
        "outputId": "f1bac31e-cbe1-493b-bee5-7172a971e702"
      },
      "outputs": [
        {
          "output_type": "stream",
          "name": "stdout",
          "text": [
            "root\n",
            " |-- x_val: integer (nullable = true)\n",
            " |-- y_val: integer (nullable = true)\n",
            "\n"
          ]
        }
      ],
      "source": [
        "# Add column headers x_val, y_val\n",
        "points_column_headers = [\"x_val\", \"y_val\"]\n",
        "for i, col_name in enumerate(points_column_headers):\n",
        "    points_df = points_df.withColumnRenamed(\"_c\" + str(i), col_name)\n",
        "points_df.printSchema()\n",
        "\n",
        "# Start with P (points) as a dataframe\n",
        "P = points_df"
      ]
    },
    {
      "cell_type": "markdown",
      "metadata": {
        "id": "di-keBvEHFzz"
      },
      "source": [
        "## Step 3: Assign point's current grid\n",
        "\n",
        "1. x_grid = ceiling (x_val / 20)\n",
        "\n",
        "2. y_grid = [ceiling (x_val / 20) - 1] * 500\n",
        "\n",
        "3. curr_grid = x_grid + y_grid"
      ]
    },
    {
      "cell_type": "code",
      "execution_count": 44,
      "metadata": {
        "colab": {
          "base_uri": "https://localhost:8080/"
        },
        "id": "XlSBGWvlGkeR",
        "outputId": "62a80f1c-b6c9-4ef1-f1d2-baa065e4902f"
      },
      "outputs": [
        {
          "output_type": "stream",
          "name": "stdout",
          "text": [
            "+-----+-----+------+------+------+\n",
            "|x_val|y_val|x_grid|y_grid|  grid|\n",
            "+-----+-----+------+------+------+\n",
            "| 5652| 3438|   283| 85500| 85783|\n",
            "| 7174| 8619|   359|215000|215359|\n",
            "| 8415| 6263|   421|156500|156921|\n",
            "| 3171| 4857|   159|121000|121159|\n",
            "| 4211| 1952|   211| 48500| 48711|\n",
            "| 1963| 1044|    99| 26000| 26099|\n",
            "|  755| 5746|    38|143500|143538|\n",
            "| 9960| 2011|   498| 50000| 50498|\n",
            "| 1621| 3304|    82| 82500| 82582|\n",
            "|  645| 8017|    33|200000|200033|\n",
            "| 9262| 7423|   464|185500|185964|\n",
            "| 7919| 9611|   396|240000|240396|\n",
            "| 8698| 4678|   435|116500|116935|\n",
            "| 1298| 7917|    65|197500|197565|\n",
            "| 2029| 5703|   102|142500|142602|\n",
            "| 2479| 7344|   124|183500|183624|\n",
            "|  827|  748|    42| 18500| 18542|\n",
            "| 7299| 9564|   365|239000|239365|\n",
            "| 8128|  339|   407|  8000|  8407|\n",
            "| 4494| 4665|   225|116500|116725|\n",
            "+-----+-----+------+------+------+\n",
            "only showing top 20 rows\n",
            "\n"
          ]
        }
      ],
      "source": [
        "# Assign current grid for each point\n",
        "\n",
        "# import type of output & udf\n",
        "from pyspark.sql.types import IntegerType\n",
        "from pyspark.sql.functions import udf\n",
        "from math import ceil\n",
        "\n",
        "# Define udf to get grid x\n",
        "def get_x_grid(x):\n",
        "    return ceil(x / 20)\n",
        "\n",
        "get_x_grid_udf = udf(get_x_grid, IntegerType())\n",
        "\n",
        "# Define udf to get grid y\n",
        "def get_y_grid(x):\n",
        "    if x == 0:\n",
        "        return 0  # Return 0 if x is 0\n",
        "    else:\n",
        "        return (ceil(x / 20) - 1) * 500\n",
        "\n",
        "get_y_grid_udf = udf(get_y_grid, IntegerType())\n",
        "\n",
        "# Define udf to get grid\n",
        "def get_grid(x, y):\n",
        "    return x + y\n",
        "\n",
        "get_grid_udf = udf(get_grid, IntegerType())\n",
        "\n",
        "# Apply udfs to get grid information for each point\n",
        "P_with_x_grid = P.withColumn('x_grid', get_x_grid_udf(P['x_val']))\n",
        "P_with_x_and_y_grid = P_with_x_grid.withColumn('y_grid', get_y_grid_udf(P['y_val']))\n",
        "P_with_grid = P_with_x_and_y_grid.withColumn('grid', get_grid_udf(P_with_x_and_y_grid['x_grid'], P_with_x_and_y_grid['y_grid']))\n",
        "P_with_grid.show()"
      ]
    },
    {
      "cell_type": "markdown",
      "metadata": {
        "id": "fHboUjlSd1u3"
      },
      "source": [
        "## Step 4: Get Count of Points in Each Grid"
      ]
    },
    {
      "cell_type": "code",
      "execution_count": 45,
      "metadata": {
        "colab": {
          "base_uri": "https://localhost:8080/"
        },
        "id": "hfN-fUJid4hd",
        "outputId": "03c75a07-bb83-4367-c434-51120d60389b"
      },
      "outputs": [
        {
          "output_type": "stream",
          "name": "stdout",
          "text": [
            "+---------+----------+\n",
            "|curr_grid|num_points|\n",
            "+---------+----------+\n",
            "|    82582|        43|\n",
            "|   147711|        41|\n",
            "|   171946|        39|\n",
            "|    60769|        37|\n",
            "|   238308|        37|\n",
            "|    22521|        38|\n",
            "|    47084|        45|\n",
            "|    18024|        31|\n",
            "|   196628|        37|\n",
            "|   206817|        39|\n",
            "|     9465|        53|\n",
            "|    13832|        46|\n",
            "|   198430|        44|\n",
            "|    40335|        38|\n",
            "|   243476|        34|\n",
            "|   102594|        44|\n",
            "|   170862|        47|\n",
            "|    23015|        36|\n",
            "|    85349|        40|\n",
            "|   193228|        44|\n",
            "+---------+----------+\n",
            "only showing top 20 rows\n",
            "\n"
          ]
        }
      ],
      "source": [
        "# Selct grid column\n",
        "P_with_grid = P_with_grid.select('grid')\n",
        "\n",
        "# GroupBy grid and count to get points per grid\n",
        "grid_with_count = P_with_grid.groupBy('grid').agg(count('grid').alias('num_points'))\n",
        "\n",
        "# rename grid to curr_grid to prep for join\n",
        "grid_with_count = grid_with_count.withColumnRenamed(\"grid\", \"curr_grid\")\n",
        "\n",
        "grid_with_count.show()"
      ]
    },
    {
      "cell_type": "markdown",
      "metadata": {
        "id": "uT1ZDGbzLXJ-"
      },
      "source": [
        "## Step 5: Assign neighbors & check if valid"
      ]
    },
    {
      "cell_type": "markdown",
      "metadata": {
        "id": "3dpggVJKcdOL"
      },
      "source": [
        "### Assign Neighbors\n",
        "\n",
        "1. n_1 = curr_grid + 500 - 1\n",
        "\n",
        "2. n_2 = curr_grid + 500\n",
        "\n",
        "3. n_3 = curr_grid + 500 + 1\n",
        "\n",
        "4. n_4 = curr_grid + 1\n",
        "\n",
        "5. n_5 = curr_grid - 500 + 1\n",
        "\n",
        "6. n_6 = curr_grid - 500\n",
        "\n",
        "7. n_7 = curr_grid - 500 - 1\n",
        "\n",
        "8. n_8 = curr_grid - 1\n",
        "\n",
        "### Check if neighbor is valid\n",
        "\n",
        "1. If x_grid = 1, then no n_1, n_8, n_7\n",
        "\n",
        "2. If curr_grid <= 500, then no n_7, n_6, n_5\n",
        "\n",
        "3. If curr_grid % 500 == 0, then no n_3, n_4, n_5\n",
        "\n",
        "4. if curr_grid >= 249,951, then no n_1, n_2, n_3"
      ]
    },
    {
      "cell_type": "code",
      "execution_count": 46,
      "metadata": {
        "colab": {
          "base_uri": "https://localhost:8080/"
        },
        "id": "8CPxtzXqLZMq",
        "outputId": "93794735-8d59-48f9-a47f-5f01b53e2e4a"
      },
      "outputs": [
        {
          "output_type": "stream",
          "name": "stdout",
          "text": [
            "+------+------+------+------+------+------+------+------+------+\n",
            "|  grid|   n_1|   n_2|   n_3|   n_4|   n_5|   n_6|   n_7|   n_8|\n",
            "+------+------+------+------+------+------+------+------+------+\n",
            "| 85783| 86282| 86283| 86284| 85784| 85284| 85283| 85282| 85782|\n",
            "|215359|215858|215859|215860|215360|214860|214859|214858|215358|\n",
            "|156921|157420|157421|157422|156922|156422|156421|156420|156920|\n",
            "|121159|121658|121659|121660|121160|120660|120659|120658|121158|\n",
            "| 48711| 49210| 49211| 49212| 48712| 48212| 48211| 48210| 48710|\n",
            "| 26099| 26598| 26599| 26600| 26100| 25600| 25599| 25598| 26098|\n",
            "|143538|144037|144038|144039|143539|143039|143038|143037|143537|\n",
            "| 50498| 50997| 50998| 50999| 50499| 49999| 49998| 49997| 50497|\n",
            "| 82582| 83081| 83082| 83083| 82583| 82083| 82082| 82081| 82581|\n",
            "|200033|200532|200533|200534|200034|199534|199533|199532|200032|\n",
            "|185964|186463|186464|186465|185965|185465|185464|185463|185963|\n",
            "|240396|240895|240896|240897|240397|239897|239896|239895|240395|\n",
            "|116935|117434|117435|117436|116936|116436|116435|116434|116934|\n",
            "|197565|198064|198065|198066|197566|197066|197065|197064|197564|\n",
            "|142602|143101|143102|143103|142603|142103|142102|142101|142601|\n",
            "|183624|184123|184124|184125|183625|183125|183124|183123|183623|\n",
            "| 18542| 19041| 19042| 19043| 18543| 18043| 18042| 18041| 18541|\n",
            "|239365|239864|239865|239866|239366|238866|238865|238864|239364|\n",
            "|  8407|  8906|  8907|  8908|  8408|  7908|  7907|  7906|  8406|\n",
            "|116725|117224|117225|117226|116726|116226|116225|116224|116724|\n",
            "+------+------+------+------+------+------+------+------+------+\n",
            "only showing top 20 rows\n",
            "\n"
          ]
        }
      ],
      "source": [
        "# Assign Neighbors & make sure valid\n",
        "\n",
        "# Define udf to get n_1\n",
        "def get_n_1(grid):\n",
        "    if grid % 500 == 1:\n",
        "      return -1\n",
        "    elif grid >= 249951:\n",
        "      return -1\n",
        "    else:\n",
        "      return grid + 500 - 1\n",
        "\n",
        "get_n_1_udf = udf(get_n_1, IntegerType())\n",
        "\n",
        "# Define udf to get n_2\n",
        "def get_n_2(grid):\n",
        "  if grid >= 249951:\n",
        "    return -1\n",
        "  else:\n",
        "    return grid + 500\n",
        "\n",
        "get_n_2_udf = udf(get_n_2, IntegerType())\n",
        "\n",
        "# Define udf to get n_3\n",
        "def get_n_3(grid):\n",
        "    if grid % 500 == 0:\n",
        "      return -1\n",
        "    elif grid >= 249951:\n",
        "      return -1\n",
        "    else:\n",
        "      return grid + 500 + 1\n",
        "\n",
        "get_n_3_udf = udf(get_n_3, IntegerType())\n",
        "\n",
        "# Define udf to get n_4\n",
        "def get_n_4(grid):\n",
        "    if grid % 500 == 0:\n",
        "      return -1\n",
        "    else:\n",
        "      return grid + 1\n",
        "\n",
        "get_n_4_udf = udf(get_n_4, IntegerType())\n",
        "\n",
        "# Define udf to get n_5\n",
        "def get_n_5(grid):\n",
        "    if grid <= 500:\n",
        "      return -1\n",
        "    elif grid % 500 == 0:\n",
        "      return -1\n",
        "    else:\n",
        "      return grid - 500 + 1\n",
        "\n",
        "get_n_5_udf = udf(get_n_5, IntegerType())\n",
        "\n",
        "# Define udf to get n_6\n",
        "def get_n_6(grid):\n",
        "    if grid <= 500:\n",
        "      return -1\n",
        "    else:\n",
        "      return grid - 500\n",
        "\n",
        "get_n_6_udf = udf(get_n_6, IntegerType())\n",
        "\n",
        "# Define udf to get n_7\n",
        "def get_n_7(grid):\n",
        "    if grid % 500 == 1:\n",
        "      return -1\n",
        "    elif grid <= 500:\n",
        "      return -1\n",
        "    else:\n",
        "      return grid - 500 - 1\n",
        "\n",
        "get_n_7_udf = udf(get_n_7, IntegerType())\n",
        "\n",
        "# Define udf to get n_8\n",
        "def get_n_8(grid):\n",
        "    if grid % 500 == 1:\n",
        "      return -1\n",
        "    else:\n",
        "      return grid - 1\n",
        "\n",
        "get_n_8_udf = udf(get_n_8, IntegerType())\n",
        "\n",
        "# Add columns for each neighbor\n",
        "P_with_n1 = P_with_grid.withColumn('n_1', get_n_1_udf(P_with_grid['grid']))\n",
        "P_with_n2 = P_with_n1.withColumn('n_2', get_n_2_udf(P_with_n1['grid']))\n",
        "P_with_n3 = P_with_n2.withColumn('n_3', get_n_3_udf(P_with_n2['grid']))\n",
        "P_with_n4 = P_with_n3.withColumn('n_4', get_n_4_udf(P_with_n3['grid']))\n",
        "P_with_n5 = P_with_n4.withColumn('n_5', get_n_5_udf(P_with_n4['grid']))\n",
        "P_with_n6 = P_with_n5.withColumn('n_6', get_n_6_udf(P_with_n5['grid']))\n",
        "P_with_n7 = P_with_n6.withColumn('n_7', get_n_7_udf(P_with_n6['grid']))\n",
        "P_with_n8 = P_with_n7.withColumn('n_8', get_n_8_udf(P_with_n7['grid']))\n",
        "grid_with_neighbors = P_with_n8.select('grid', 'n_1', 'n_2', 'n_3', 'n_4', 'n_5', 'n_6', 'n_7', 'n_8')\n",
        "\n",
        "grid_with_neighbors.show()"
      ]
    },
    {
      "cell_type": "markdown",
      "metadata": {
        "id": "H2LceJTPfo4D"
      },
      "source": [
        "## Step 6: Get Count of Neighbors"
      ]
    },
    {
      "cell_type": "code",
      "execution_count": 47,
      "metadata": {
        "colab": {
          "base_uri": "https://localhost:8080/"
        },
        "id": "NXx72Tbb0ZH4",
        "outputId": "edf51a8a-ab3b-4dd2-efcc-794b001703a4"
      },
      "outputs": [
        {
          "output_type": "stream",
          "name": "stdout",
          "text": [
            "+----+----------+\n",
            "|grid|grid_count|\n",
            "+----+----------+\n",
            "| 148|        49|\n",
            "| 148|        49|\n",
            "| 148|        49|\n",
            "| 148|        49|\n",
            "| 148|        49|\n",
            "| 148|        49|\n",
            "| 148|        49|\n",
            "| 148|        49|\n",
            "| 148|        49|\n",
            "| 148|        49|\n",
            "| 148|        49|\n",
            "| 148|        49|\n",
            "| 148|        49|\n",
            "| 148|        49|\n",
            "| 148|        49|\n",
            "| 148|        49|\n",
            "| 148|        49|\n",
            "| 148|        49|\n",
            "| 148|        49|\n",
            "| 148|        49|\n",
            "+----+----------+\n",
            "only showing top 20 rows\n",
            "\n"
          ]
        }
      ],
      "source": [
        "# Get grids of all points\n",
        "grid_curr = P_with_grid.select('grid')\n",
        "\n",
        "# Join grid_curr with grid_with_count based on the 'grid' column using left outer join\n",
        "joined_curr = grid_curr.join(grid_with_count, grid_curr['grid'] == grid_with_count['curr_grid'], \"left_outer\")\n",
        "\n",
        "# Replace null values in num_points with 0\n",
        "joined_curr_with_count = joined_curr.select(\n",
        "    grid_curr['grid'],\n",
        "    coalesce(grid_with_count['num_points'], lit(0)).alias('grid_count')\n",
        ")\n",
        "\n",
        "joined_curr_with_count.show()"
      ]
    },
    {
      "cell_type": "code",
      "execution_count": 48,
      "metadata": {
        "colab": {
          "base_uri": "https://localhost:8080/"
        },
        "id": "F4OwwzCjfraD",
        "outputId": "47091314-d809-46e0-ad59-8a176a96bc3d"
      },
      "outputs": [
        {
          "output_type": "stream",
          "name": "stdout",
          "text": [
            "+----+---+---------+\n",
            "|grid|n_1|n_1_count|\n",
            "+----+---+---------+\n",
            "| 334|833|       40|\n",
            "| 334|833|       40|\n",
            "| 334|833|       40|\n",
            "| 334|833|       40|\n",
            "| 334|833|       40|\n",
            "| 334|833|       40|\n",
            "| 334|833|       40|\n",
            "| 334|833|       40|\n",
            "| 334|833|       40|\n",
            "| 334|833|       40|\n",
            "| 334|833|       40|\n",
            "| 334|833|       40|\n",
            "| 334|833|       40|\n",
            "| 334|833|       40|\n",
            "| 334|833|       40|\n",
            "| 334|833|       40|\n",
            "| 334|833|       40|\n",
            "| 334|833|       40|\n",
            "| 334|833|       40|\n",
            "| 334|833|       40|\n",
            "+----+---+---------+\n",
            "only showing top 20 rows\n",
            "\n"
          ]
        }
      ],
      "source": [
        "# Get grids of all points and n1\n",
        "grid_n1 = P_with_n1.select('grid', 'n_1')\n",
        "\n",
        "# Join grid_n1 with grid_with_count based on the 'n_1' column using left outer join\n",
        "joined_n1 = grid_n1.join(grid_with_count, grid_n1['n_1'] == grid_with_count['curr_grid'], \"left_outer\")\n",
        "\n",
        "# Replace null values in num_points with 0\n",
        "n1_with_count = joined_n1.select(\n",
        "    grid_n1['grid'],\n",
        "    grid_n1['n_1'].alias('n_1'),\n",
        "    coalesce(grid_with_count['num_points'], lit(0)).alias('n_1_count')\n",
        ")\n",
        "\n",
        "n1_with_count.show()"
      ]
    },
    {
      "cell_type": "code",
      "execution_count": 49,
      "metadata": {
        "colab": {
          "base_uri": "https://localhost:8080/"
        },
        "id": "g6GsnlSIbhaA",
        "outputId": "5568540c-0627-453e-f34c-e33ee4c32c31"
      },
      "outputs": [
        {
          "output_type": "stream",
          "name": "stdout",
          "text": [
            "+----+---+---------+\n",
            "|grid|n_2|n_2_count|\n",
            "+----+---+---------+\n",
            "| 333|833|       40|\n",
            "| 333|833|       40|\n",
            "| 333|833|       40|\n",
            "| 333|833|       40|\n",
            "| 333|833|       40|\n",
            "| 333|833|       40|\n",
            "| 333|833|       40|\n",
            "| 333|833|       40|\n",
            "| 333|833|       40|\n",
            "| 333|833|       40|\n",
            "| 333|833|       40|\n",
            "| 333|833|       40|\n",
            "| 333|833|       40|\n",
            "| 333|833|       40|\n",
            "| 333|833|       40|\n",
            "| 333|833|       40|\n",
            "| 333|833|       40|\n",
            "| 333|833|       40|\n",
            "| 333|833|       40|\n",
            "| 333|833|       40|\n",
            "+----+---+---------+\n",
            "only showing top 20 rows\n",
            "\n"
          ]
        }
      ],
      "source": [
        "# Get grids of all points and n2\n",
        "grid_n2 = P_with_n2.select('grid', 'n_2')\n",
        "\n",
        "# Join grid_n2 with grid_with_count based on the 'n_2' column using left outer join\n",
        "joined_n2 = grid_n2.join(grid_with_count, grid_n2['n_2'] == grid_with_count['curr_grid'], \"left_outer\")\n",
        "\n",
        "# Replace null values in num_points with 0\n",
        "n2_with_count = joined_n2.select(\n",
        "    grid_n2['grid'],\n",
        "    grid_n2['n_2'].alias('n_2'),\n",
        "    coalesce(grid_with_count['num_points'], lit(0)).alias('n_2_count')\n",
        ")\n",
        "\n",
        "n2_with_count.show()"
      ]
    },
    {
      "cell_type": "code",
      "execution_count": 50,
      "metadata": {
        "colab": {
          "base_uri": "https://localhost:8080/"
        },
        "id": "RkkFsyDTwXTh",
        "outputId": "341e714f-a1f8-4200-f0de-ab49b7e0d226"
      },
      "outputs": [
        {
          "output_type": "stream",
          "name": "stdout",
          "text": [
            "+----+---+---------+\n",
            "|grid|n_3|n_3_count|\n",
            "+----+---+---------+\n",
            "| 332|833|       40|\n",
            "| 332|833|       40|\n",
            "| 332|833|       40|\n",
            "| 332|833|       40|\n",
            "| 332|833|       40|\n",
            "| 332|833|       40|\n",
            "| 332|833|       40|\n",
            "| 332|833|       40|\n",
            "| 332|833|       40|\n",
            "| 332|833|       40|\n",
            "| 332|833|       40|\n",
            "| 332|833|       40|\n",
            "| 332|833|       40|\n",
            "| 332|833|       40|\n",
            "| 332|833|       40|\n",
            "| 332|833|       40|\n",
            "| 332|833|       40|\n",
            "| 332|833|       40|\n",
            "| 332|833|       40|\n",
            "| 332|833|       40|\n",
            "+----+---+---------+\n",
            "only showing top 20 rows\n",
            "\n"
          ]
        }
      ],
      "source": [
        "# Get grids of all points and n3\n",
        "grid_n3 = P_with_n3.select('grid', 'n_3')\n",
        "\n",
        "# Join grid_n3 with grid_with_count based on the 'n_3' column using left outer join\n",
        "joined_n3 = grid_n3.join(grid_with_count, grid_n3['n_3'] == grid_with_count['curr_grid'], \"left_outer\")\n",
        "\n",
        "# Replace null values in num_points with 0\n",
        "n3_with_count = joined_n3.select(\n",
        "    grid_n3['grid'],\n",
        "    grid_n3['n_3'].alias('n_3'),\n",
        "    coalesce(grid_with_count['num_points'], lit(0)).alias('n_3_count')\n",
        ")\n",
        "\n",
        "n3_with_count.show()"
      ]
    },
    {
      "cell_type": "code",
      "execution_count": 51,
      "metadata": {
        "colab": {
          "base_uri": "https://localhost:8080/"
        },
        "id": "IjgkXkMxwaTy",
        "outputId": "846381a2-8ae7-4961-ed54-95e4574fc5ed"
      },
      "outputs": [
        {
          "output_type": "stream",
          "name": "stdout",
          "text": [
            "+----+---+---------+\n",
            "|grid|n_4|n_4_count|\n",
            "+----+---+---------+\n",
            "| 147|148|       49|\n",
            "| 147|148|       49|\n",
            "| 147|148|       49|\n",
            "| 147|148|       49|\n",
            "| 147|148|       49|\n",
            "| 147|148|       49|\n",
            "| 147|148|       49|\n",
            "| 147|148|       49|\n",
            "| 147|148|       49|\n",
            "| 147|148|       49|\n",
            "| 147|148|       49|\n",
            "| 147|148|       49|\n",
            "| 147|148|       49|\n",
            "| 147|148|       49|\n",
            "| 147|148|       49|\n",
            "| 147|148|       49|\n",
            "| 147|148|       49|\n",
            "| 147|148|       49|\n",
            "| 147|148|       49|\n",
            "| 147|148|       49|\n",
            "+----+---+---------+\n",
            "only showing top 20 rows\n",
            "\n"
          ]
        }
      ],
      "source": [
        "# Get grids of all points and n4\n",
        "grid_n4 = P_with_n4.select('grid', 'n_4')\n",
        "\n",
        "# Join grid_n4 with grid_with_count based on the 'n_4' column using left outer join\n",
        "joined_n4 = grid_n4.join(grid_with_count, grid_n4['n_4'] == grid_with_count['curr_grid'], \"left_outer\")\n",
        "\n",
        "# Replace null values in num_points with 0\n",
        "n4_with_count = joined_n4.select(\n",
        "    grid_n4['grid'],\n",
        "    grid_n4['n_4'].alias('n_4'),\n",
        "    coalesce(grid_with_count['num_points'], lit(0)).alias('n_4_count')\n",
        ")\n",
        "\n",
        "n4_with_count.show()"
      ]
    },
    {
      "cell_type": "code",
      "execution_count": 52,
      "metadata": {
        "colab": {
          "base_uri": "https://localhost:8080/"
        },
        "id": "_jkQPxZEwaGe",
        "outputId": "06a364dd-47c5-403e-fecb-88c2cbabce79"
      },
      "outputs": [
        {
          "output_type": "stream",
          "name": "stdout",
          "text": [
            "+----+---+---------+\n",
            "|grid|n_5|n_5_count|\n",
            "+----+---+---------+\n",
            "| 647|148|       49|\n",
            "| 647|148|       49|\n",
            "| 647|148|       49|\n",
            "| 647|148|       49|\n",
            "| 647|148|       49|\n",
            "| 647|148|       49|\n",
            "| 647|148|       49|\n",
            "| 647|148|       49|\n",
            "| 647|148|       49|\n",
            "| 647|148|       49|\n",
            "| 647|148|       49|\n",
            "| 647|148|       49|\n",
            "| 647|148|       49|\n",
            "| 647|148|       49|\n",
            "| 647|148|       49|\n",
            "| 647|148|       49|\n",
            "| 647|148|       49|\n",
            "| 647|148|       49|\n",
            "| 647|148|       49|\n",
            "| 647|148|       49|\n",
            "+----+---+---------+\n",
            "only showing top 20 rows\n",
            "\n"
          ]
        }
      ],
      "source": [
        "# Get grids of all points and n5\n",
        "grid_n5 = P_with_n5.select('grid', 'n_5')\n",
        "\n",
        "# Joining grid_n5 with grid_with_count based on the 'n_5' column using left outer join\n",
        "joined_n5 = grid_n5.join(grid_with_count, grid_n5['n_5'] == grid_with_count['curr_grid'], \"left_outer\")\n",
        "\n",
        "# Replace null values in num_points with 0\n",
        "n5_with_count = joined_n5.select(\n",
        "    grid_n5['grid'],\n",
        "    grid_n5['n_5'].alias('n_5'),\n",
        "    coalesce(grid_with_count['num_points'], lit(0)).alias('n_5_count')\n",
        ")\n",
        "\n",
        "n5_with_count.show()"
      ]
    },
    {
      "cell_type": "code",
      "execution_count": 53,
      "metadata": {
        "colab": {
          "base_uri": "https://localhost:8080/"
        },
        "id": "i1ajR4JZwZ24",
        "outputId": "23ccc90b-1c1f-4e35-870f-d148f4a28169"
      },
      "outputs": [
        {
          "output_type": "stream",
          "name": "stdout",
          "text": [
            "+----+---+---------+\n",
            "|grid|n_6|n_6_count|\n",
            "+----+---+---------+\n",
            "| 648|148|       49|\n",
            "| 648|148|       49|\n",
            "| 648|148|       49|\n",
            "| 648|148|       49|\n",
            "| 648|148|       49|\n",
            "| 648|148|       49|\n",
            "| 648|148|       49|\n",
            "| 648|148|       49|\n",
            "| 648|148|       49|\n",
            "| 648|148|       49|\n",
            "| 648|148|       49|\n",
            "| 648|148|       49|\n",
            "| 648|148|       49|\n",
            "| 648|148|       49|\n",
            "| 648|148|       49|\n",
            "| 648|148|       49|\n",
            "| 648|148|       49|\n",
            "| 648|148|       49|\n",
            "| 648|148|       49|\n",
            "| 648|148|       49|\n",
            "+----+---+---------+\n",
            "only showing top 20 rows\n",
            "\n"
          ]
        }
      ],
      "source": [
        "# Get grids of all points and n6\n",
        "grid_n6 = P_with_n6.select('grid', 'n_6')\n",
        "\n",
        "# Joining grid_n6 with grid_with_count based on the 'n_6' column using left outer join\n",
        "joined_n6 = grid_n6.join(grid_with_count, grid_n6['n_6'] == grid_with_count['curr_grid'], \"left_outer\")\n",
        "\n",
        "# Replace null values in num_points with 0\n",
        "n6_with_count = joined_n6.select(\n",
        "    grid_n6['grid'],\n",
        "    grid_n6['n_6'].alias('n_6'),\n",
        "    coalesce(grid_with_count['num_points'], lit(0)).alias('n_6_count')\n",
        ")\n",
        "\n",
        "n6_with_count.show()"
      ]
    },
    {
      "cell_type": "code",
      "execution_count": 54,
      "metadata": {
        "colab": {
          "base_uri": "https://localhost:8080/"
        },
        "id": "erOIeo1AwZnU",
        "outputId": "1762db3e-8767-4539-ea22-a507eb7a1b31"
      },
      "outputs": [
        {
          "output_type": "stream",
          "name": "stdout",
          "text": [
            "+----+---+---------+\n",
            "|grid|n_7|n_7_count|\n",
            "+----+---+---------+\n",
            "| 649|148|       49|\n",
            "| 649|148|       49|\n",
            "| 649|148|       49|\n",
            "| 649|148|       49|\n",
            "| 649|148|       49|\n",
            "| 649|148|       49|\n",
            "| 649|148|       49|\n",
            "| 649|148|       49|\n",
            "| 649|148|       49|\n",
            "| 649|148|       49|\n",
            "| 649|148|       49|\n",
            "| 649|148|       49|\n",
            "| 649|148|       49|\n",
            "| 649|148|       49|\n",
            "| 649|148|       49|\n",
            "| 649|148|       49|\n",
            "| 649|148|       49|\n",
            "| 649|148|       49|\n",
            "| 649|148|       49|\n",
            "| 649|148|       49|\n",
            "+----+---+---------+\n",
            "only showing top 20 rows\n",
            "\n"
          ]
        }
      ],
      "source": [
        "# Get grids of all points and n7\n",
        "grid_n7 = P_with_n7.select('grid', 'n_7')\n",
        "\n",
        "# Joining grid_n7 with grid_with_count based on the 'n_7' column using left outer join\n",
        "joined_n7 = grid_n7.join(grid_with_count, grid_n7['n_7'] == grid_with_count['curr_grid'], \"left_outer\")\n",
        "\n",
        "# Replace null values in num_points with 0\n",
        "n7_with_count = joined_n7.select(\n",
        "    grid_n7['grid'],\n",
        "    grid_n7['n_7'].alias('n_7'),\n",
        "    coalesce(grid_with_count['num_points'], lit(0)).alias('n_7_count')\n",
        ")\n",
        "\n",
        "n7_with_count.show()"
      ]
    },
    {
      "cell_type": "code",
      "execution_count": 55,
      "metadata": {
        "colab": {
          "base_uri": "https://localhost:8080/"
        },
        "id": "O9wn8hMqwZAQ",
        "outputId": "5f0da375-754f-47f0-fc8f-d11c3eb111ef"
      },
      "outputs": [
        {
          "output_type": "stream",
          "name": "stdout",
          "text": [
            "+----+---+---------+\n",
            "|grid|n_8|n_8_count|\n",
            "+----+---+---------+\n",
            "| 149|148|       49|\n",
            "| 149|148|       49|\n",
            "| 149|148|       49|\n",
            "| 149|148|       49|\n",
            "| 149|148|       49|\n",
            "| 149|148|       49|\n",
            "| 149|148|       49|\n",
            "| 149|148|       49|\n",
            "| 149|148|       49|\n",
            "| 149|148|       49|\n",
            "| 149|148|       49|\n",
            "| 149|148|       49|\n",
            "| 149|148|       49|\n",
            "| 149|148|       49|\n",
            "| 149|148|       49|\n",
            "| 149|148|       49|\n",
            "| 149|148|       49|\n",
            "| 149|148|       49|\n",
            "| 149|148|       49|\n",
            "| 149|148|       49|\n",
            "+----+---+---------+\n",
            "only showing top 20 rows\n",
            "\n"
          ]
        }
      ],
      "source": [
        "# Get grids of all points and n8\n",
        "grid_n8 = P_with_n8.select('grid', 'n_8')\n",
        "\n",
        "# Joining grid_n8 with grid_with_count based on the 'n_8' column using left outer join\n",
        "joined_n8 = grid_n8.join(grid_with_count, grid_n8['n_8'] == grid_with_count['curr_grid'], \"left_outer\")\n",
        "\n",
        "# Replace null values in num_points with 0\n",
        "n8_with_count = joined_n8.select(\n",
        "    grid_n8['grid'],\n",
        "    grid_n8['n_8'].alias('n_8'),\n",
        "    coalesce(grid_with_count['num_points'], lit(0)).alias('n_8_count')\n",
        ")\n",
        "\n",
        "n8_with_count.show()"
      ]
    },
    {
      "cell_type": "code",
      "source": [
        "# Drop duplicates\n",
        "joined_curr_with_count = joined_curr_with_count.dropDuplicates()\n",
        "n1_with_count = n1_with_count.dropDuplicates()\n",
        "n2_with_count = n2_with_count.dropDuplicates()\n",
        "n3_with_count = n3_with_count.dropDuplicates()\n",
        "n4_with_count = n4_with_count.dropDuplicates()\n",
        "n5_with_count = n5_with_count.dropDuplicates()\n",
        "n6_with_count = n6_with_count.dropDuplicates()\n",
        "n7_with_count = n7_with_count.dropDuplicates()\n",
        "n8_with_count = n8_with_count.dropDuplicates()"
      ],
      "metadata": {
        "id": "dvZoIXe7OGtU"
      },
      "execution_count": 56,
      "outputs": []
    },
    {
      "cell_type": "code",
      "execution_count": 57,
      "metadata": {
        "colab": {
          "base_uri": "https://localhost:8080/"
        },
        "id": "UF5xe7VUcDp_",
        "outputId": "7c5ebb2b-003e-4cf4-e491-1f38326c85d0"
      },
      "outputs": [
        {
          "output_type": "stream",
          "name": "stdout",
          "text": [
            "+----+----------+----+---------+----+---------+----+---------+----+---------+----+---------+----+---------+----+---------+----+---------+\n",
            "|grid|grid_count| n_1|n_1_count| n_2|n_2_count| n_3|n_3_count| n_4|n_4_count| n_5|n_5_count| n_6|n_6_count| n_7|n_7_count| n_8|n_8_count|\n",
            "+----+----------+----+---------+----+---------+----+---------+----+---------+----+---------+----+---------+----+---------+----+---------+\n",
            "| 148|        49| 647|       25| 648|       35| 649|       47| 149|       41|  -1|        0|  -1|        0|  -1|        0| 147|       38|\n",
            "| 463|        35| 962|       28| 963|       35| 964|       39| 464|       45|  -1|        0|  -1|        0|  -1|        0| 462|       51|\n",
            "| 471|        41| 970|       49| 971|       35| 972|       39| 472|       41|  -1|        0|  -1|        0|  -1|        0| 470|       32|\n",
            "| 496|        44| 995|       41| 996|       45| 997|       44| 497|       36|  -1|        0|  -1|        0|  -1|        0| 495|       39|\n",
            "| 833|        40|1332|       45|1333|       38|1334|       35| 834|       45| 334|       36| 333|       49| 332|       54| 832|       33|\n",
            "|1088|        38|1587|       31|1588|       31|1589|       44|1089|       42| 589|       42| 588|       37| 587|       54|1087|       44|\n",
            "|1238|        42|1737|       45|1738|       35|1739|       46|1239|       43| 739|       34| 738|       34| 737|       38|1237|       43|\n",
            "|1342|        31|1841|       44|1842|       31|1843|       40|1343|       47| 843|       39| 842|       27| 841|       33|1341|       38|\n",
            "|1580|        47|2079|       39|2080|       48|2081|       41|1581|       40|1081|       34|1080|       40|1079|       41|1579|       30|\n",
            "|1591|        48|2090|       31|2091|       43|2092|       39|1592|       41|1092|       48|1091|       36|1090|       38|1590|       38|\n",
            "|1645|        35|2144|       41|2145|       40|2146|       35|1646|       42|1146|       24|1145|       35|1144|       43|1644|       52|\n",
            "|1829|        36|2328|       36|2329|       38|2330|       35|1830|       51|1330|       28|1329|       47|1328|       38|1828|       45|\n",
            "|1959|        47|2458|       38|2459|       39|2460|       47|1960|       34|1460|       37|1459|       41|1458|       36|1958|       43|\n",
            "|2122|        33|2621|       35|2622|       36|2623|       43|2123|       46|1623|       53|1622|       47|1621|       35|2121|       44|\n",
            "|2142|        25|2641|       44|2642|       44|2643|       40|2143|       36|1643|       44|1642|       33|1641|       30|2141|       51|\n",
            "|2366|        56|2865|       35|2866|       58|2867|       35|2367|       36|1867|       41|1866|       41|1865|       32|2365|       45|\n",
            "|2659|        48|3158|       45|3159|       29|3160|       33|2660|       38|2160|       21|2159|       40|2158|       41|2658|       42|\n",
            "|2866|        58|3365|       39|3366|       30|3367|       37|2867|       35|2367|       36|2366|       56|2365|       45|2865|       35|\n",
            "|3175|        46|3674|       48|3675|       38|3676|       59|3176|       44|2676|       45|2675|       38|2674|       43|3174|       34|\n",
            "|3749|        48|4248|       45|4249|       39|4250|       45|3750|       39|3250|       35|3249|       40|3248|       27|3748|       50|\n",
            "+----+----------+----+---------+----+---------+----+---------+----+---------+----+---------+----+---------+----+---------+----+---------+\n",
            "only showing top 20 rows\n",
            "\n"
          ]
        }
      ],
      "source": [
        "# Join all neighbors with counts based on the 'grid' column\n",
        "joined_with_n1 = joined_curr_with_count.join(n1_with_count, 'grid', \"outer\")\n",
        "joined_with_n2 = joined_with_n1.join(n2_with_count, 'grid', \"outer\")\n",
        "joined_with_n3 = joined_with_n2.join(n3_with_count, 'grid', \"outer\")\n",
        "joined_with_n4 = joined_with_n3.join(n4_with_count, 'grid', \"outer\")\n",
        "joined_with_n5 = joined_with_n4.join(n5_with_count, 'grid', \"outer\")\n",
        "joined_with_n6 = joined_with_n5.join(n6_with_count, 'grid', \"outer\")\n",
        "joined_with_n7 = joined_with_n6.join(n7_with_count, 'grid', \"outer\")\n",
        "joined_with_n8 = joined_with_n7.join(n8_with_count, 'grid', \"outer\")\n",
        "\n",
        "joined_with_n8.show()"
      ]
    },
    {
      "cell_type": "markdown",
      "metadata": {
        "id": "4X0V7r-B35X4"
      },
      "source": [
        "## Step 7: For each grid, calculate the density"
      ]
    },
    {
      "cell_type": "code",
      "execution_count": 58,
      "metadata": {
        "colab": {
          "base_uri": "https://localhost:8080/"
        },
        "id": "TTAH_2tf34qY",
        "outputId": "6c21486c-cb65-4f69-ad42-3885d3744baa"
      },
      "outputs": [
        {
          "output_type": "stream",
          "name": "stdout",
          "text": [
            "+----+----------+----+---------+----+---------+----+---------+----+---------+----+---------+----+---------+----+---------+----+---------+---------+\n",
            "|grid|grid_count| n_1|n_1_count| n_2|n_2_count| n_3|n_3_count| n_4|n_4_count| n_5|n_5_count| n_6|n_6_count| n_7|n_7_count| n_8|n_8_count|avg_count|\n",
            "+----+----------+----+---------+----+---------+----+---------+----+---------+----+---------+----+---------+----+---------+----+---------+---------+\n",
            "| 148|        49| 647|       25| 648|       35| 649|       47| 149|       41|  -1|        0|  -1|        0|  -1|        0| 147|       38|     37.2|\n",
            "| 463|        35| 962|       28| 963|       35| 964|       39| 464|       45|  -1|        0|  -1|        0|  -1|        0| 462|       51|     39.6|\n",
            "| 471|        41| 970|       49| 971|       35| 972|       39| 472|       41|  -1|        0|  -1|        0|  -1|        0| 470|       32|     39.2|\n",
            "| 496|        44| 995|       41| 996|       45| 997|       44| 497|       36|  -1|        0|  -1|        0|  -1|        0| 495|       39|     41.0|\n",
            "| 833|        40|1332|       45|1333|       38|1334|       35| 834|       45| 334|       36| 333|       49| 332|       54| 832|       33|   41.875|\n",
            "|1088|        38|1587|       31|1588|       31|1589|       44|1089|       42| 589|       42| 588|       37| 587|       54|1087|       44|   40.625|\n",
            "|1238|        42|1737|       45|1738|       35|1739|       46|1239|       43| 739|       34| 738|       34| 737|       38|1237|       43|    39.75|\n",
            "|1342|        31|1841|       44|1842|       31|1843|       40|1343|       47| 843|       39| 842|       27| 841|       33|1341|       38|   37.375|\n",
            "|1580|        47|2079|       39|2080|       48|2081|       41|1581|       40|1081|       34|1080|       40|1079|       41|1579|       30|   39.125|\n",
            "|1591|        48|2090|       31|2091|       43|2092|       39|1592|       41|1092|       48|1091|       36|1090|       38|1590|       38|    39.25|\n",
            "|1645|        35|2144|       41|2145|       40|2146|       35|1646|       42|1146|       24|1145|       35|1144|       43|1644|       52|     39.0|\n",
            "|1829|        36|2328|       36|2329|       38|2330|       35|1830|       51|1330|       28|1329|       47|1328|       38|1828|       45|    39.75|\n",
            "|1959|        47|2458|       38|2459|       39|2460|       47|1960|       34|1460|       37|1459|       41|1458|       36|1958|       43|   39.375|\n",
            "|2122|        33|2621|       35|2622|       36|2623|       43|2123|       46|1623|       53|1622|       47|1621|       35|2121|       44|   42.375|\n",
            "|2142|        25|2641|       44|2642|       44|2643|       40|2143|       36|1643|       44|1642|       33|1641|       30|2141|       51|    40.25|\n",
            "|2366|        56|2865|       35|2866|       58|2867|       35|2367|       36|1867|       41|1866|       41|1865|       32|2365|       45|   40.375|\n",
            "|2659|        48|3158|       45|3159|       29|3160|       33|2660|       38|2160|       21|2159|       40|2158|       41|2658|       42|   36.125|\n",
            "|2866|        58|3365|       39|3366|       30|3367|       37|2867|       35|2367|       36|2366|       56|2365|       45|2865|       35|   39.125|\n",
            "|3175|        46|3674|       48|3675|       38|3676|       59|3176|       44|2676|       45|2675|       38|2674|       43|3174|       34|   43.625|\n",
            "|3749|        48|4248|       45|4249|       39|4250|       45|3750|       39|3250|       35|3249|       40|3248|       27|3748|       50|     40.0|\n",
            "+----+----------+----+---------+----+---------+----+---------+----+---------+----+---------+----+---------+----+---------+----+---------+---------+\n",
            "only showing top 20 rows\n",
            "\n"
          ]
        }
      ],
      "source": [
        "from pyspark.sql.functions import udf\n",
        "from pyspark.sql.types import DoubleType\n",
        "\n",
        "# Calculate average of count of all valid neighbors\n",
        "def calculate_average(n1, n1_count, n2, n2_count, n3, n3_count, n4, n4_count, n5, n5_count, n6, n6_count, n7, n7_count, n8, n8_count):\n",
        "    _sum = 0\n",
        "    count = 0\n",
        "\n",
        "    if n1 > 0:\n",
        "        _sum += n1_count\n",
        "        count += 1\n",
        "    if n2 > 0:\n",
        "        _sum += n2_count\n",
        "        count += 1\n",
        "    if n3 > 0:\n",
        "        _sum += n3_count\n",
        "        count += 1\n",
        "    if n4 > 0:\n",
        "        _sum += n4_count\n",
        "        count += 1\n",
        "    if n5 > 0:\n",
        "        _sum += n5_count\n",
        "        count += 1\n",
        "    if n6 > 0:\n",
        "        _sum += n6_count\n",
        "        count += 1\n",
        "    if n7 > 0:\n",
        "        _sum += n7_count\n",
        "        count += 1\n",
        "    if n8 > 0:\n",
        "        _sum += n8_count\n",
        "        count += 1\n",
        "\n",
        "    return _sum / count if count > 0 else None\n",
        "\n",
        "# Register the UDF\n",
        "calculate_average_udf = udf(calculate_average, DoubleType())\n",
        "\n",
        "# Add a new column with the calculated average\n",
        "joined_with_avg = joined_with_n8.withColumn('avg_count', calculate_average_udf(joined_with_n8['n_1'], joined_with_n8['n_1_count'], joined_with_n8['n_2'], joined_with_n8['n_2_count'], joined_with_n8['n_3'], joined_with_n8['n_3_count'], joined_with_n8['n_4'], joined_with_n8['n_4_count'], joined_with_n8['n_5'], joined_with_n8['n_5_count'], joined_with_n8['n_6'], joined_with_n8['n_6_count'], joined_with_n8['n_7'], joined_with_n8['n_7_count'], joined_with_n8['n_8'], joined_with_n8['n_8_count']))\n",
        "\n",
        "joined_with_avg.show()\n"
      ]
    },
    {
      "cell_type": "code",
      "execution_count": 59,
      "metadata": {
        "colab": {
          "base_uri": "https://localhost:8080/"
        },
        "id": "On8sPWMaM15i",
        "outputId": "8c8bfaa6-463b-453c-ad03-b16d3ad39503"
      },
      "outputs": [
        {
          "output_type": "stream",
          "name": "stdout",
          "text": [
            "+----+----------+----+---------+----+---------+----+---------+----+---------+----+---------+----+---------+----+---------+----+---------+---------+------------------+\n",
            "|grid|grid_count| n_1|n_1_count| n_2|n_2_count| n_3|n_3_count| n_4|n_4_count| n_5|n_5_count| n_6|n_6_count| n_7|n_7_count| n_8|n_8_count|avg_count|    rel_dens_index|\n",
            "+----+----------+----+---------+----+---------+----+---------+----+---------+----+---------+----+---------+----+---------+----+---------+---------+------------------+\n",
            "| 148|        49| 647|       25| 648|       35| 649|       47| 149|       41|  -1|        0|  -1|        0|  -1|        0| 147|       38|     37.2|1.3172043010752688|\n",
            "| 463|        35| 962|       28| 963|       35| 964|       39| 464|       45|  -1|        0|  -1|        0|  -1|        0| 462|       51|     39.6|0.8838383838383838|\n",
            "| 471|        41| 970|       49| 971|       35| 972|       39| 472|       41|  -1|        0|  -1|        0|  -1|        0| 470|       32|     39.2|1.0459183673469388|\n",
            "| 496|        44| 995|       41| 996|       45| 997|       44| 497|       36|  -1|        0|  -1|        0|  -1|        0| 495|       39|     41.0|1.0731707317073171|\n",
            "| 833|        40|1332|       45|1333|       38|1334|       35| 834|       45| 334|       36| 333|       49| 332|       54| 832|       33|   41.875|0.9552238805970149|\n",
            "|1088|        38|1587|       31|1588|       31|1589|       44|1089|       42| 589|       42| 588|       37| 587|       54|1087|       44|   40.625|0.9353846153846154|\n",
            "|1238|        42|1737|       45|1738|       35|1739|       46|1239|       43| 739|       34| 738|       34| 737|       38|1237|       43|    39.75|1.0566037735849056|\n",
            "|1342|        31|1841|       44|1842|       31|1843|       40|1343|       47| 843|       39| 842|       27| 841|       33|1341|       38|   37.375|0.8294314381270903|\n",
            "|1580|        47|2079|       39|2080|       48|2081|       41|1581|       40|1081|       34|1080|       40|1079|       41|1579|       30|   39.125|1.2012779552715656|\n",
            "|1591|        48|2090|       31|2091|       43|2092|       39|1592|       41|1092|       48|1091|       36|1090|       38|1590|       38|    39.25|1.2229299363057324|\n",
            "|1645|        35|2144|       41|2145|       40|2146|       35|1646|       42|1146|       24|1145|       35|1144|       43|1644|       52|     39.0|0.8974358974358975|\n",
            "|1829|        36|2328|       36|2329|       38|2330|       35|1830|       51|1330|       28|1329|       47|1328|       38|1828|       45|    39.75|0.9056603773584906|\n",
            "|1959|        47|2458|       38|2459|       39|2460|       47|1960|       34|1460|       37|1459|       41|1458|       36|1958|       43|   39.375|1.1936507936507936|\n",
            "|2122|        33|2621|       35|2622|       36|2623|       43|2123|       46|1623|       53|1622|       47|1621|       35|2121|       44|   42.375|0.7787610619469026|\n",
            "|2142|        25|2641|       44|2642|       44|2643|       40|2143|       36|1643|       44|1642|       33|1641|       30|2141|       51|    40.25|0.6211180124223602|\n",
            "|2366|        56|2865|       35|2866|       58|2867|       35|2367|       36|1867|       41|1866|       41|1865|       32|2365|       45|   40.375|1.3869969040247678|\n",
            "|2659|        48|3158|       45|3159|       29|3160|       33|2660|       38|2160|       21|2159|       40|2158|       41|2658|       42|   36.125| 1.328719723183391|\n",
            "|2866|        58|3365|       39|3366|       30|3367|       37|2867|       35|2367|       36|2366|       56|2365|       45|2865|       35|   39.125|1.4824281150159744|\n",
            "|3175|        46|3674|       48|3675|       38|3676|       59|3176|       44|2676|       45|2675|       38|2674|       43|3174|       34|   43.625|1.0544412607449856|\n",
            "|3749|        48|4248|       45|4249|       39|4250|       45|3750|       39|3250|       35|3249|       40|3248|       27|3748|       50|     40.0|               1.2|\n",
            "+----+----------+----+---------+----+---------+----+---------+----+---------+----+---------+----+---------+----+---------+----+---------+---------+------------------+\n",
            "only showing top 20 rows\n",
            "\n"
          ]
        }
      ],
      "source": [
        "# Calculate relative density index\n",
        "def calculate_rel_dens_index(grid_count, avg_count):\n",
        "    return grid_count / avg_count\n",
        "\n",
        "# Register the UDF\n",
        "calculate_rel_dens_index_udf = udf(calculate_rel_dens_index, DoubleType())\n",
        "\n",
        "# Add a new column with the calculated relative density\n",
        "joined_with_rel_dens_index = joined_with_avg.withColumn('rel_dens_index', calculate_rel_dens_index_udf(joined_with_avg['grid_count'], joined_with_avg['avg_count']))\n",
        "\n",
        "joined_with_rel_dens_index.show()"
      ]
    },
    {
      "cell_type": "markdown",
      "source": [
        "## Display the final outputs"
      ],
      "metadata": {
        "id": "B-QPoDcbTPrC"
      }
    },
    {
      "cell_type": "markdown",
      "source": [
        "### TOP 50 grid cells w.r.t Relative-Density Index"
      ],
      "metadata": {
        "id": "H0w7vFNwQD6-"
      }
    },
    {
      "cell_type": "code",
      "execution_count": 60,
      "metadata": {
        "colab": {
          "base_uri": "https://localhost:8080/"
        },
        "id": "06tvUcWAOSia",
        "outputId": "760a9bfc-1f18-4832-b313-07b452c89233"
      },
      "outputs": [
        {
          "output_type": "stream",
          "name": "stdout",
          "text": [
            "+---------+------------------+\n",
            "|curr_grid|    rel_dens_index|\n",
            "+---------+------------------+\n",
            "|   249913| 2.588235294117647|\n",
            "|   249787| 2.558139534883721|\n",
            "|   249847|2.4390243902439024|\n",
            "|   249620|2.4390243902439024|\n",
            "|   249748|2.3838383838383836|\n",
            "|   249674| 2.278787878787879|\n",
            "|   249744| 2.247191011235955|\n",
            "|   249632|2.2439024390243905|\n",
            "|   249672| 2.217391304347826|\n",
            "|   249945|2.1928934010152283|\n",
            "|   249904|2.1666666666666665|\n",
            "|   249569|2.1333333333333333|\n",
            "|   249637| 2.127659574468085|\n",
            "|   249753|2.0923076923076924|\n",
            "|   249618|2.0710659898477157|\n",
            "|   249851|2.0682926829268293|\n",
            "|   249660| 2.065934065934066|\n",
            "|   249856| 2.053475935828877|\n",
            "|   249759|2.0444444444444443|\n",
            "|   249859|2.0425531914893615|\n",
            "+---------+------------------+\n",
            "only showing top 20 rows\n",
            "\n"
          ]
        }
      ],
      "source": [
        "# Rename the 'grid' column to 'curr_grid'\n",
        "renamed_df = joined_with_rel_dens_index.withColumnRenamed('grid', 'curr_grid')\n",
        "\n",
        "# Select curr_grid and rel_dens_index, order by 'rel_dens_index' in descending order, and limit to 50 rows\n",
        "result = renamed_df.select('curr_grid', 'rel_dens_index').orderBy('rel_dens_index', ascending=False).limit(50)\n",
        "\n",
        "result.show()"
      ]
    },
    {
      "cell_type": "code",
      "execution_count": 63,
      "metadata": {
        "colab": {
          "base_uri": "https://localhost:8080/"
        },
        "id": "s32hVlSBFZOR",
        "outputId": "6a7c430b-3997-4023-84cf-f333fdb5f942"
      },
      "outputs": [
        {
          "output_type": "stream",
          "name": "stdout",
          "text": [
            "+------+--------+\n",
            "|  grid|curr_rdi|\n",
            "+------+--------+\n",
            "| 85783|     0.0|\n",
            "|215359|     0.0|\n",
            "|156921|     0.0|\n",
            "|121159|     0.0|\n",
            "| 48711|     0.0|\n",
            "| 26099|     0.0|\n",
            "|143538|     0.0|\n",
            "| 50498|     0.0|\n",
            "| 82582|     0.0|\n",
            "|200033|     0.0|\n",
            "|185964|     0.0|\n",
            "|240396|     0.0|\n",
            "|116935|     0.0|\n",
            "|197565|     0.0|\n",
            "|142602|     0.0|\n",
            "|183624|     0.0|\n",
            "| 18542|     0.0|\n",
            "|239365|     0.0|\n",
            "|  8407|     0.0|\n",
            "|116725|     0.0|\n",
            "+------+--------+\n",
            "only showing top 20 rows\n",
            "\n"
          ]
        }
      ],
      "source": [
        "# Get rdi for all points\n",
        "curr_rel_dens = grid_curr.join(result, grid_curr['grid'] == result['curr_grid'], \"left_outer\")\n",
        "\n",
        "# Make all invalid neighbors have an rdi of 0\n",
        "curr_rel_dens = curr_rel_dens.select(\n",
        "    grid_curr['grid'],\n",
        "    coalesce(result['rel_dens_index'], lit(0)).alias('curr_rdi')\n",
        ")\n",
        "\n",
        "curr_rel_dens.show()"
      ]
    },
    {
      "cell_type": "code",
      "source": [
        "# Get rdi of n1\n",
        "n1_rel_dens = grid_n1.join(result, grid_n1['n_1'] == result['curr_grid'], \"left_outer\")\n",
        "n1_rel_dens = n1_rel_dens.select(\n",
        "    grid_n1['grid'],\n",
        "    grid_n1['n_1'].alias('n_1'),\n",
        "    coalesce(result['rel_dens_index'], lit(0)).alias('n1_rdi')\n",
        ")\n",
        "n1_rel_dens.show()"
      ],
      "metadata": {
        "id": "RtX1o0gG_sRN"
      },
      "execution_count": null,
      "outputs": []
    },
    {
      "cell_type": "code",
      "source": [
        "# Get rdi of n2\n",
        "n2_rel_dens = grid_n2.join(result, grid_n2['n_2'] == result['curr_grid'], \"left_outer\")\n",
        "n2_rel_dens = n2_rel_dens.select(\n",
        "    grid_n2['grid'],\n",
        "    grid_n2['n_2'].alias('n_2'),\n",
        "    coalesce(result['rel_dens_index'], lit(0)).alias('n2_rdi')\n",
        ")\n",
        "n2_rel_dens.show()"
      ],
      "metadata": {
        "id": "1VXO0VAw_2z1"
      },
      "execution_count": null,
      "outputs": []
    },
    {
      "cell_type": "code",
      "source": [
        "# Get rdi of n3\n",
        "n3_rel_dens = grid_n3.join(result, grid_n3['n_3'] == result['curr_grid'], \"left_outer\")\n",
        "n3_rel_dens = n3_rel_dens.select(\n",
        "    grid_n3['grid'],\n",
        "    grid_n3['n_3'].alias('n_3'),\n",
        "    coalesce(result['rel_dens_index'], lit(0)).alias('n3_rdi')\n",
        ")\n",
        "n3_rel_dens.show()"
      ],
      "metadata": {
        "id": "RIcFAv_j_3QM"
      },
      "execution_count": null,
      "outputs": []
    },
    {
      "cell_type": "code",
      "source": [
        "# Get rdi of n4\n",
        "n4_rel_dens = grid_n4.join(result, grid_n4['n_4'] == result['curr_grid'], \"left_outer\")\n",
        "n4_rel_dens = n4_rel_dens.select(\n",
        "    grid_n4['grid'],\n",
        "    grid_n4['n_4'].alias('n_4'),\n",
        "    coalesce(result['rel_dens_index'], lit(0)).alias('n4_rdi')\n",
        ")\n",
        "n4_rel_dens.show()"
      ],
      "metadata": {
        "id": "U0AgC98c_3h_"
      },
      "execution_count": null,
      "outputs": []
    },
    {
      "cell_type": "code",
      "source": [
        "# Get rdi of n5\n",
        "n5_rel_dens = grid_n5.join(result, grid_n5['n_5'] == result['curr_grid'], \"left_outer\")\n",
        "n5_rel_dens = n5_rel_dens.select(\n",
        "    grid_n5['grid'],\n",
        "    grid_n5['n_5'].alias('n_5'),\n",
        "    coalesce(result['rel_dens_index'], lit(0)).alias('n5_rdi')\n",
        ")\n",
        "n5_rel_dens.show()"
      ],
      "metadata": {
        "id": "BlSm6ASB_4Gv"
      },
      "execution_count": null,
      "outputs": []
    },
    {
      "cell_type": "code",
      "source": [
        "# Get rdi of n6\n",
        "n6_rel_dens = grid_n6.join(result, grid_n6['n_6'] == result['curr_grid'], \"left_outer\")\n",
        "n6_rel_dens = n6_rel_dens.select(\n",
        "    grid_n6['grid'],\n",
        "    grid_n6['n_6'].alias('n_6'),\n",
        "    coalesce(result['rel_dens_index'], lit(0)).alias('n6_rdi')\n",
        ")\n",
        "n6_rel_dens.show()"
      ],
      "metadata": {
        "id": "UoDMYavT_4uO"
      },
      "execution_count": null,
      "outputs": []
    },
    {
      "cell_type": "code",
      "source": [
        "# Get rdi of n7\n",
        "n7_rel_dens = grid_n7.join(result, grid_n7['n_7'] == result['curr_grid'], \"left_outer\")\n",
        "n7_rel_dens = n7_rel_dens.select(\n",
        "    grid_n7['grid'],\n",
        "    grid_n7['n_7'].alias('n_7'),\n",
        "    coalesce(result['rel_dens_index'], lit(0)).alias('n7_rdi')\n",
        ")\n",
        "n7_rel_dens.show()"
      ],
      "metadata": {
        "id": "t5F2uwLr_4bs"
      },
      "execution_count": null,
      "outputs": []
    },
    {
      "cell_type": "code",
      "execution_count": null,
      "metadata": {
        "id": "mfDEc6IZD9a3"
      },
      "outputs": [],
      "source": [
        "# Get rdi of n8\n",
        "n8_rel_dens = grid_n8.join(result, grid_n8['n_8'] == result['curr_grid'], \"left_outer\")\n",
        "n8_rel_dens = n8_rel_dens.select(\n",
        "    grid_n8['grid'],\n",
        "    grid_n8['n_8'].alias('n_8'),\n",
        "    coalesce(result['rel_dens_index'], lit(0)).alias('n8_rdi')\n",
        ")\n",
        "n8_rel_dens.show()"
      ]
    },
    {
      "cell_type": "code",
      "source": [
        "# Drop duplicates for joins\n",
        "curr_rel_dens = curr_rel_dens.dropDuplicates()\n",
        "n1_rel_dens = n1_rel_dens.dropDuplicates()\n",
        "n2_rel_dens = n2_rel_dens.dropDuplicates()\n",
        "n3_rel_dens = n3_rel_dens.dropDuplicates()\n",
        "n4_rel_dens = n4_rel_dens.dropDuplicates()\n",
        "n5_rel_dens = n5_rel_dens.dropDuplicates()\n",
        "n6_rel_dens = n6_rel_dens.dropDuplicates()\n",
        "n7_rel_dens = n7_rel_dens.dropDuplicates()\n",
        "n8_rel_dens = n8_rel_dens.dropDuplicates()"
      ],
      "metadata": {
        "id": "-8ee4TYQDYmP"
      },
      "execution_count": null,
      "outputs": []
    },
    {
      "cell_type": "code",
      "execution_count": null,
      "metadata": {
        "id": "AtfaL6cIHGip"
      },
      "outputs": [],
      "source": [
        "# Joining all neighbors with rdi based on the 'grid' column\n",
        "rdi_w_n1 = curr_rel_dens.join(n1_rel_dens, 'grid', \"outer\")\n",
        "rdi_w_n2 = rdi_w_n1.join(n2_rel_dens, 'grid', \"outer\")\n",
        "rdi_w_n3 = rdi_w_n2.join(n3_rel_dens, 'grid', \"outer\")\n",
        "rdi_w_n4 = rdi_w_n3.join(n4_rel_dens, 'grid', \"outer\")\n",
        "rdi_w_n5 = rdi_w_n4.join(n5_rel_dens, 'grid', \"outer\")\n",
        "rdi_w_n6 = rdi_w_n5.join(n6_rel_dens, 'grid', \"outer\")\n",
        "rdi_w_n7 = rdi_w_n6.join(n7_rel_dens, 'grid', \"outer\")\n",
        "rdi_w_n8 = rdi_w_n7.join(n8_rel_dens, 'grid', \"outer\")\n",
        "\n",
        "rdi_w_n8.show()"
      ]
    },
    {
      "cell_type": "markdown",
      "source": [
        "### Neighbors of the TOP 50 grid"
      ],
      "metadata": {
        "id": "X8HhY86LRizF"
      }
    },
    {
      "cell_type": "code",
      "source": [
        "# Select current grid and all neighbors with individual rdi's, order by 'rel_dens_index' in descending order, and limit to 50 rows\n",
        "result2 = rdi_w_n8.orderBy('curr_rdi').orderBy('curr_rdi', ascending = False).limit(50)\n",
        "\n",
        "result2.show()"
      ],
      "metadata": {
        "id": "cIV-kIoZoC5E"
      },
      "execution_count": null,
      "outputs": []
    }
  ],
  "metadata": {
    "colab": {
      "provenance": []
    },
    "kernelspec": {
      "display_name": "Python 3",
      "name": "python3"
    },
    "language_info": {
      "name": "python"
    }
  },
  "nbformat": 4,
  "nbformat_minor": 0
}