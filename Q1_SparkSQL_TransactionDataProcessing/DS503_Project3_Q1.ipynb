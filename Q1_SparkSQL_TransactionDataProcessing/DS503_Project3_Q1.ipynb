{
  "nbformat": 4,
  "nbformat_minor": 0,
  "metadata": {
    "colab": {
      "provenance": []
    },
    "kernelspec": {
      "name": "python3",
      "display_name": "Python 3"
    },
    "language_info": {
      "name": "python"
    }
  },
  "cells": [
    {
      "cell_type": "markdown",
      "source": [
        "# Setup of Spark Environment"
      ],
      "metadata": {
        "id": "KpCZZWQXfMSf"
      }
    },
    {
      "cell_type": "code",
      "execution_count": null,
      "metadata": {
        "id": "n-Ta-AC_uTva"
      },
      "outputs": [],
      "source": [
        "!apt-get install openjdk-8-jdk-headless -qq > /dev/null\n",
        "!wget -q http://archive.apache.org/dist/spark/spark-3.1.1/spark-3.1.1-bin-hadoop3.2.tgz\n",
        "!tar xf spark-3.1.1-bin-hadoop3.2.tgz\n",
        "!pip install -q findspark"
      ]
    },
    {
      "cell_type": "code",
      "source": [
        "import os\n",
        "os.environ[\"JAVA_HOME\"] = \"/usr/lib/jvm/java-8-openjdk-amd64\"\n",
        "os.environ[\"SPARK_HOME\"] = \"/content/spark-3.1.1-bin-hadoop3.2\""
      ],
      "metadata": {
        "id": "jL9vDrrPueLs"
      },
      "execution_count": null,
      "outputs": []
    },
    {
      "cell_type": "markdown",
      "source": [
        "# Workflow using SparkSQL and Dataframes\n",
        "\n",
        "Start with T as a dataframe.\n",
        "\n",
        "T1: Filter out (drop) the transactions from T whose total amount is less than 200\n",
        "\n",
        "T2: Over T1, group the transactions by the Number of Items it has, and for each group calculate the sum of total amounts, the average of total amounts, the min and the max of the total amounts.\n",
        "\n",
        "Report back T2 to the client side.\n",
        "\n",
        "T3: Over T1, group the transactions by customer ID, and for each group report the customer ID, and the transactions’ count.\n",
        "\n",
        "T4: Filter out (drop) the transactions from T whose total amount is less than 600.\n",
        "\n",
        "T5: Over T4, group the transactions by customer ID, and for each group report the customer ID, and the transactions’ count.\n",
        "\n",
        "T6: Select the customer IDs whose T5.count * 5 < T3.count.\n",
        "\n",
        "Report back T6 to the client side."
      ],
      "metadata": {
        "id": "rYqjCEBX4YTd"
      }
    },
    {
      "cell_type": "code",
      "source": [
        "# Full Code\n",
        "\n",
        "# Imports & setup\n",
        "import findspark\n",
        "findspark.init()\n",
        "from pyspark.sql import SparkSession\n",
        "spark = SparkSession.builder.master(\"local[*]\").getOrCreate()\n",
        "spark.conf.set(\"spark.sql.repl.eagerEval.enabled\", True) # Property used to format output tables better\n",
        "spark\n",
        "from pyspark.sql.functions import col, sum, avg, min, max, count\n",
        "\n",
        "# Import transaction data\n",
        "transactions_df = spark.read.csv(\"Transactions.txt\", header=False, inferSchema=True)\n",
        "# Add column headers\n",
        "transaction_column_headers = [\"TransID\", \"CustID\", \"TransTotal\", \"TransNumItems\", \"TransDesc\"]\n",
        "for i, col_name in enumerate(transaction_column_headers):\n",
        "    transactions_df = transactions_df.withColumnRenamed(\"_c\" + str(i), col_name)\n",
        "# transactions_df.printSchema()\n",
        "# transactions_df.show()\n",
        "\n",
        "# Start with T (transactions) as a dataframe\n",
        "T = transactions_df\n",
        "# print(\"Original T:\")\n",
        "# T.show()\n",
        "\n",
        "# T1: Filter out (drop) the transactions from T whose total amount is less than $200\n",
        "T1 = T.filter(T.TransTotal >= 200)\n",
        "# print(\"T1:\")\n",
        "# T1.show()\n",
        "\n",
        "# T2: Over T1, group the transactions by the Number of Items it has,\n",
        "# and for each group calculate the sum of total amounts, the average of total amounts, the min and the max of the total amounts.\n",
        "T2 = T1.groupBy('TransNumItems').agg(\n",
        "    sum('TransTotal'),\n",
        "    avg('TransTotal'),\n",
        "    min('TransTotal'),\n",
        "    max('TransTotal')\n",
        ").orderBy('TransNumItems', ascending=True)\n",
        "# Report back T2 to the client side\n",
        "print(\"T2: sum, average, min, and max of total amounts of each group based on number of items with a total amount less than $200\")\n",
        "T2.show()\n",
        "\n",
        "# T3: Over T1, group the transactions by customer ID\n",
        "T3 = T1.groupBy('CustID').agg(count('CustID').alias('NumTransT3')).select('CustID','NumTransT3')\n",
        "# For each group report the customer ID, and the transactions’ count\n",
        "print(\"T3: customer ID and transactions’ count of each customer with a total amount less than $200\")\n",
        "T3.show()\n",
        "\n",
        "# T4: Filter out (drop) the transactions from T whose total amount is less than $600\n",
        "T4 = T.filter(T.TransTotal >= 600)\n",
        "# print(\"T4:\")\n",
        "# T4.show()\n",
        "\n",
        "# T5: Over T4, group the transactions by customer ID\n",
        "T5 = T4.groupBy('CustID').agg(count('CustID').alias('NumTransT5')).select('CustID','NumTransT5')\n",
        "# For each group report the customer ID, and the transactions’ count\n",
        "print(\"T5: customer ID and transactions’ count of each customer with a total amount less than $600\")\n",
        "T5.show()\n",
        "\n",
        "# T6: Select the customer IDs whose T5.count * 5 < T3.count\n",
        "# Join T5 with T3 on 'CustID' to get access to 'NumTransT3'\n",
        "T5_with_T3 = T5.join(T3, 'CustID', 'inner')\n",
        "# T5_with_T3.show()\n",
        "# Select the customer IDs whose T5.count * 5 < T3.count\n",
        "T6 = T5_with_T3.filter((T5_with_T3['NumTransT5'] * 5) < T5_with_T3['NumTransT3']).select('CustID')\n",
        "# Report back T6 to the client side\n",
        "print(\"T6: customer IDs whose T5.count * 5 < T3.count\")\n",
        "T6.show()\n"
      ],
      "metadata": {
        "id": "rs6RlDyK2xqL",
        "colab": {
          "base_uri": "https://localhost:8080/"
        },
        "outputId": "88d3bfd9-8eac-49a3-dbe3-8ef0cabe629e"
      },
      "execution_count": 43,
      "outputs": [
        {
          "output_type": "stream",
          "name": "stdout",
          "text": [
            "T2: sum, average, min, and max of total amounts of each group based on number of items with a total amount less than $200\n",
            "+-------------+--------------------+-----------------+---------------+---------------+\n",
            "|TransNumItems|     sum(TransTotal)|  avg(TransTotal)|min(TransTotal)|max(TransTotal)|\n",
            "+-------------+--------------------+-----------------+---------------+---------------+\n",
            "|            1| 2.429269206697057E8|599.7529179960392|      200.00142|       999.9957|\n",
            "|            2|2.4257767184206057E8|600.2852529102918|      200.00055|      999.99884|\n",
            "|            3|2.4293303848863894E8| 600.156228123807|       200.0017|      999.99884|\n",
            "|            4|2.4195768084812087E8|599.8970596137199|          200.0|      999.99805|\n",
            "|            5|2.4224993707820743E8| 599.837906492631|      200.00012|       999.9995|\n",
            "|            6|2.4252875229645818E8|600.1047950642795|      200.00104|      999.99927|\n",
            "|            7|2.4212435738319233E8|600.6662417436977|      200.00023|      999.99945|\n",
            "|            8|2.4229258382000926E8|599.7801410999588|      200.00157|       999.9968|\n",
            "|            9|2.4244369954031643E8| 599.493834388316|      200.00276|       999.9993|\n",
            "|           10| 2.423697550455299E8|600.1152717829657|      200.00124|       999.9997|\n",
            "+-------------+--------------------+-----------------+---------------+---------------+\n",
            "\n",
            "T3: customer ID and transactions’ count of each customer with a total amount less than $200\n",
            "+------+----------+\n",
            "|CustID|NumTransT3|\n",
            "+------+----------+\n",
            "| 19530|        79|\n",
            "| 25517|        80|\n",
            "|  2366|        87|\n",
            "| 27760|        88|\n",
            "| 43527|        83|\n",
            "| 28577|        81|\n",
            "| 15846|        83|\n",
            "|   148|        75|\n",
            "|  7340|        92|\n",
            "| 11317|        69|\n",
            "|  7240|       108|\n",
            "| 22373|        81|\n",
            "|  3175|        71|\n",
            "| 26087|        92|\n",
            "| 25462|       111|\n",
            "|  4818|        78|\n",
            "| 38758|        81|\n",
            "| 48398|        78|\n",
            "|  3749|        97|\n",
            "| 26425|        81|\n",
            "+------+----------+\n",
            "only showing top 20 rows\n",
            "\n",
            "T5: customer ID and transactions’ count of each customer with a total amount less than $600\n",
            "+------+----------+\n",
            "|CustID|NumTransT5|\n",
            "+------+----------+\n",
            "| 25517|        35|\n",
            "|  2366|        46|\n",
            "| 11317|        29|\n",
            "|  7240|        55|\n",
            "| 22373|        42|\n",
            "|  3175|        31|\n",
            "| 48398|        40|\n",
            "|  3749|        49|\n",
            "| 26425|        39|\n",
            "| 33717|        50|\n",
            "| 44596|        36|\n",
            "| 16861|        56|\n",
            "| 10362|        52|\n",
            "| 31983|        39|\n",
            "| 18979|        40|\n",
            "| 49717|        38|\n",
            "| 41890|        37|\n",
            "| 16339|        52|\n",
            "|  3997|        43|\n",
            "| 36224|        39|\n",
            "+------+----------+\n",
            "only showing top 20 rows\n",
            "\n",
            "T6: customer IDs whose T5.count * 5 < T3.count\n",
            "+------+\n",
            "|CustID|\n",
            "+------+\n",
            "+------+\n",
            "\n"
          ]
        }
      ]
    }
  ]
}